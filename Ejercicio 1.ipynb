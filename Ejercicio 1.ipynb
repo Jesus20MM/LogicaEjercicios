{
 "cells": [
  {
   "cell_type": "markdown",
   "metadata": {},
   "source": [
    "# Calculadora de tiro parabolico"
   ]
  },
  {
   "cell_type": "markdown",
   "metadata": {},
   "source": [
    "### Ecuaciones\n",
    "\n",
    "\n",
    "$$\n",
    "x = (v_0 cos \\alpha_0) t\n",
    "$$\n",
    "\n",
    "$$\n",
    "y = (v_0 sen \\alpha_0) t - \\frac{1}{2} g t^2\n",
    "$$\n",
    "\n",
    "$$\n",
    "v_x = v_0 cos \\alpha_0\n",
    "$$\n",
    "\n",
    "$$\n",
    "v_y = v_0 sen \\alpha_0 - g t\n",
    "$$"
   ]
  },
  {
   "cell_type": "markdown",
   "metadata": {},
   "source": [
    "## DATOS DISPONIBLES:\n",
    "\n",
    "Posicion inicial y final en x\n",
    "\n",
    "Posicion inicial y final en y\n",
    "\n",
    "Velocidades en x e y, la velocidad en el punto maximo es cero\n",
    "\n",
    "Velocidad inicial\n",
    "\n",
    "angulo de salida\n",
    "\n",
    "gravedad\n",
    "\n",
    "tiempo final\n",
    "\n",
    "tiempo de altura maxima"
   ]
  },
  {
   "cell_type": "code",
   "execution_count": null,
   "metadata": {},
   "outputs": [],
   "source": [
    "While True:\n",
    "    x=int(input(\"Ingresa tus datos dsiponibles, sino tienes algun dato oprime enter: \"))\n",
    "    "
   ]
  },
  {
   "cell_type": "markdown",
   "metadata": {},
   "source": [
    "El objetivo del programa es hacer que, dados los datos del usuario, se calcule lo que pide."
   ]
  },
  {
   "cell_type": "markdown",
   "metadata": {},
   "source": [
    "\n"
   ]
  }
 ],
 "metadata": {
  "kernelspec": {
   "display_name": "Mipentorno",
   "language": "python",
   "name": "python3"
  },
  "language_info": {
   "codemirror_mode": {
    "name": "ipython",
    "version": 3
   },
   "file_extension": ".py",
   "mimetype": "text/x-python",
   "name": "python",
   "nbconvert_exporter": "python",
   "pygments_lexer": "ipython3",
   "version": "3.12.8"
  }
 },
 "nbformat": 4,
 "nbformat_minor": 2
}
