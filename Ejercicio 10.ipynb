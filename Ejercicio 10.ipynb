{
 "cells": [
  {
   "cell_type": "markdown",
   "metadata": {},
   "source": []
  },
  {
   "cell_type": "code",
   "execution_count": null,
   "metadata": {},
   "outputs": [
    {
     "name": "stdout",
     "output_type": "stream",
     "text": [
      "Número: 1, Suma de divisores propios: 0\n",
      "Número: 2, Suma de divisores propios: 1\n",
      "Número: 3, Suma de divisores propios: 1\n",
      "Número: 4, Suma de divisores propios: 3\n",
      "Número: 5, Suma de divisores propios: 1\n",
      "Número: 6, Suma de divisores propios: 6\n",
      "Número: 7, Suma de divisores propios: 1\n",
      "Número: 8, Suma de divisores propios: 7\n",
      "Número: 9, Suma de divisores propios: 4\n",
      "Número: 10, Suma de divisores propios: 8\n",
      "Número: 11, Suma de divisores propios: 1\n",
      "Número: 12, Suma de divisores propios: 16\n",
      "Número: 13, Suma de divisores propios: 1\n",
      "Número: 14, Suma de divisores propios: 10\n",
      "Número: 15, Suma de divisores propios: 9\n",
      "Número: 16, Suma de divisores propios: 15\n",
      "Número: 17, Suma de divisores propios: 1\n",
      "Número: 18, Suma de divisores propios: 21\n",
      "Número: 19, Suma de divisores propios: 1\n",
      "Número: 20, Suma de divisores propios: 22\n",
      "Número: 21, Suma de divisores propios: 11\n",
      "Número: 22, Suma de divisores propios: 14\n",
      "Número: 23, Suma de divisores propios: 1\n",
      "Número: 24, Suma de divisores propios: 36\n",
      "Número: 25, Suma de divisores propios: 6\n",
      "Número: 26, Suma de divisores propios: 16\n",
      "Número: 27, Suma de divisores propios: 13\n",
      "Número: 28, Suma de divisores propios: 28\n",
      "Número: 29, Suma de divisores propios: 1\n",
      "Número: 30, Suma de divisores propios: 42\n"
     ]
    }
   ],
   "source": [
    "#version compacta\n",
    "def suma_divisores_propios(lista):\n",
    "    def divisores_propios(n):\n",
    "        return sum(i for i in range(1, n) if n % i == 0)\n",
    "    \n",
    "    return [divisores_propios(num) for num in lista]\n",
    "\n",
    "# Crear una lista de números del 1 al 30\n",
    "numeros = list(range(1, 31))\n",
    "\n",
    "# Obtener la suma de los divisores propios de cada número en la lista\n",
    "resultado = suma_divisores_propios(numeros)\n",
    "\n",
    "# Imprimir resultados\n",
    "for num, suma in zip(numeros, resultado):\n",
    "    print(f\"Número: {num}, Suma de divisores propios: {suma}\")\n"
   ]
  },
  {
   "cell_type": "code",
   "execution_count": 31,
   "metadata": {},
   "outputs": [
    {
     "name": "stdout",
     "output_type": "stream",
     "text": [
      "lista de la suma de los divisores propios del 1 al 30:  [43, 21, 46, 1, 66, 17, 64, 23, 32, 1, 108, 1, 34, 41, 63, 19, 78, 1, 58, 27, 74, 1, 123, 1, 40, 49, 64, 19, 90, 1, 106, 40, 44, 1, 140, 23, 46, 33, 92, 1]\n"
     ]
    }
   ],
   "source": [
    "def suma_divisores_propios(lista):\n",
    "    # Definir una función interna para calcular la suma de los divisores propios de un número\n",
    "    \n",
    "    def divisores_propios_k(k):#devuelve la suma de los divisores de k\n",
    "        divisores1 = []\n",
    "        for i in range(1, k):  # Recorre desde 1 hasta n-1\n",
    "            if k % i == 0:  # Si i es divisor de n\n",
    "                divisores1.append(i)#se usa para agregar un elemento al final de una lista.\n",
    "        return sum(divisores1)\n",
    "    \n",
    "    # Aplicar la función a cada número en la lista y devolver una nueva lista con los resultados\n",
    "    return [divisores_propios_k(num) for num in lista]#recorrer la lista inglesada por el ususario y cada elemento pasarselo a la funcion que calcula la suma de los div propios,\n",
    "#de esta forma se claculan iterativamente la suma de los div propios de los elementos de la lisat que ingresamos\n",
    "\n",
    "\n",
    "\n",
    "\n",
    "# Crear una lista de números del 1 al 30\n",
    "numeros = list(range(50, 90))\n",
    "\n",
    "# Obtener la suma de los divisores propios de cada número en la lista\n",
    "resultado = suma_divisores_propios(numeros)\n",
    "\n",
    "print(\"lista de la suma de los divisores propios del 1 al 30: \", resultado)\n"
   ]
  },
  {
   "cell_type": "markdown",
   "metadata": {},
   "source": [
    "El programa esta bien, pero el planteamiento del ejercicio esta mal"
   ]
  },
  {
   "cell_type": "markdown",
   "metadata": {},
   "source": []
  }
 ],
 "metadata": {
  "kernelspec": {
   "display_name": "Mipentorno",
   "language": "python",
   "name": "python3"
  },
  "language_info": {
   "codemirror_mode": {
    "name": "ipython",
    "version": 3
   },
   "file_extension": ".py",
   "mimetype": "text/x-python",
   "name": "python",
   "nbconvert_exporter": "python",
   "pygments_lexer": "ipython3",
   "version": "3.12.8"
  }
 },
 "nbformat": 4,
 "nbformat_minor": 2
}
