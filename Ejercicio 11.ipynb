{
 "cells": [
  {
   "cell_type": "code",
   "execution_count": null,
   "metadata": {},
   "outputs": [],
   "source": []
  },
  {
   "cell_type": "markdown",
   "metadata": {},
   "source": [
    "Primos gemelos \n",
    "Dos primos son gemelos si son consecutivos \n",
    "5 y 7 \n",
    "3 y 5 \n",
    "7 y 11 \n",
    "Dado un N haz \n",
    "N = 1 → 3 y 5 \n",
    "N = 2 → 5 y 7 \n",
    "N = 3 → 7 y 11 \n",
    "Para todo N > 0 "
   ]
  },
  {
   "cell_type": "code",
   "execution_count": 2,
   "metadata": {},
   "outputs": [
    {
     "name": "stdout",
     "output_type": "stream",
     "text": [
      "[1, 2, 3, 5, 7, 11, 13, 17, 19, 23, 29, 31, 37, 41, 43, 47, 53, 59, 61, 67, 71, 73, 79, 83, 89, 97]\n"
     ]
    }
   ],
   "source": [
    "#programa que genera una lista de numeros primos en un cierto rango\n",
    "nums = range(1,100)\n",
    "\n",
    "def is_prime(num):\n",
    "    for x in range(2,num):\n",
    "        if (num%x) == 0:\n",
    "            return False\n",
    "    return True\n",
    "\n",
    "primes = list(filter(is_prime, nums))\n",
    "\n",
    "print(primes)"
   ]
  },
  {
   "cell_type": "code",
   "execution_count": 7,
   "metadata": {},
   "outputs": [],
   "source": [
    "def es_gemelo(n):\n",
    "    \n",
    "    contador=0\n",
    "    lista_gemelos = []\n",
    "    \n",
    "    for i in primes:\n",
    "        contador += 1\n",
    "        if contador == 0 and contador == 1:\n",
    "            continue\n",
    "        elif contador == 4:\n",
    "            lista_gemelos.append(i)\n",
    "            break\n",
    "    return lista_gemelos\n",
    "            \n",
    "         "
   ]
  },
  {
   "cell_type": "code",
   "execution_count": 8,
   "metadata": {},
   "outputs": [
    {
     "data": {
      "text/plain": [
       "[5]"
      ]
     },
     "execution_count": 8,
     "metadata": {},
     "output_type": "execute_result"
    }
   ],
   "source": [
    "es_gemelo(1)"
   ]
  },
  {
   "cell_type": "code",
   "execution_count": null,
   "metadata": {},
   "outputs": [
    {
     "name": "stdout",
     "output_type": "stream",
     "text": [
      "(11, 13)\n",
      "(29, 31)\n",
      "(31, 37)\n",
      "No hay suficientes números primos en la lista.\n",
      "El número debe estar entre 1 y 100.\n"
     ]
    }
   ],
   "source": [
    "primes = [2, 3, 5, 7, 11, 13, 17, 19, 23, 29, 31, 37, 41, 43, 47, 53, 59, 61, 67, 71, 73, 79, 83, 89, 97]\n",
    "\n",
    "def siguientes_gemelos(n):\n",
    "    if not (1 <= n <= 100):  # Verifica que n esté en el rango válido\n",
    "        return \"El número debe estar entre 1 y 100.\"\n",
    "    \n",
    "    # Encuentra el primer número primo que sea mayor o igual a n\n",
    "    for primo in primes:\n",
    "        if primo >= n:\n",
    "            idx = primes.index(primo)#se usa para encontrar la posición (índice) de un elemento dentro de una lista.\n",
    "            break\n",
    "\n",
    "    if idx + 3 >= len(primes):  # Verifica que haya suficientes primos después\n",
    "        return \"No hay suficientes números primos en la lista.\"\n",
    "\n",
    "    return tuple(primes[idx + 2:idx + 4])  # Salta uno y toma los dos siguientes\n",
    "\n",
    "# Ejemplo de uso\n",
    "print(siguientes_gemelos(5))   # (11, 13)\n",
    "print(siguientes_gemelos(19))  # (29, 31)\n",
    "print(siguientes_gemelos(20))  # (31, 37) -> 23 es el primer primo >= 20, se salta 29\n",
    "print(siguientes_gemelos(89))  # No hay suficientes números primos en la lista\n",
    "print(siguientes_gemelos(101)) # El número debe estar entre 1 y 100.\n"
   ]
  },
  {
   "cell_type": "code",
   "execution_count": null,
   "metadata": {},
   "outputs": [],
   "source": []
  }
 ],
 "metadata": {
  "kernelspec": {
   "display_name": "Mipentorno",
   "language": "python",
   "name": "python3"
  },
  "language_info": {
   "codemirror_mode": {
    "name": "ipython",
    "version": 3
   },
   "file_extension": ".py",
   "mimetype": "text/x-python",
   "name": "python",
   "nbconvert_exporter": "python",
   "pygments_lexer": "ipython3",
   "version": "3.12.8"
  }
 },
 "nbformat": 4,
 "nbformat_minor": 2
}
