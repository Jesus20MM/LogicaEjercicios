{
 "cells": [
  {
   "cell_type": "code",
   "execution_count": null,
   "metadata": {},
   "outputs": [],
   "source": [
    "def es_perfecto(n):\n",
    "    \n",
    "    lista_divisores_propios = []\n",
    "    \n",
    "    for i in range(1,n):\n",
    "        if n % i == 0:\n",
    "            lista_divisores_propios.append(i)\n",
    "            \n",
    "    suma_div_propios = sum(lista_divisores_propios)\n",
    "    \n",
    "    if suma_div_propios == n:\n",
    "        print(\"Es perfecto\")\n",
    "    else:\n",
    "        print(\"No es perfecto\")        \n",
    "    "
   ]
  },
  {
   "cell_type": "markdown",
   "metadata": {},
   "source": [
    "Un numero perfecto es un numero que es la suma de \n",
    "sus divisores propios. \n",
    "6 = 1 + 2 + 3  \n",
    "Halla los números perfectos en un rango "
   ]
  },
  {
   "cell_type": "markdown",
   "metadata": {},
   "source": []
  },
  {
   "cell_type": "code",
   "execution_count": 14,
   "metadata": {},
   "outputs": [
    {
     "name": "stdout",
     "output_type": "stream",
     "text": [
      "Es perfecto\n"
     ]
    }
   ],
   "source": [
    "es_perfecto(6)"
   ]
  },
  {
   "cell_type": "code",
   "execution_count": null,
   "metadata": {},
   "outputs": [],
   "source": []
  }
 ],
 "metadata": {
  "kernelspec": {
   "display_name": "Mipentorno",
   "language": "python",
   "name": "python3"
  },
  "language_info": {
   "codemirror_mode": {
    "name": "ipython",
    "version": 3
   },
   "file_extension": ".py",
   "mimetype": "text/x-python",
   "name": "python",
   "nbconvert_exporter": "python",
   "pygments_lexer": "ipython3",
   "version": "3.12.8"
  }
 },
 "nbformat": 4,
 "nbformat_minor": 2
}
