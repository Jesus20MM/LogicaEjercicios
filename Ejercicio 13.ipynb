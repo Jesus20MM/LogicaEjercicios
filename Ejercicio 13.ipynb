{
 "cells": [
  {
   "cell_type": "markdown",
   "metadata": {},
   "source": [
    "Primos sexys \n",
    "Un numero primo P es sexy si P+6 también es primo. \n",
    "Haya todos los pares de primos sexys en un \n",
    "intervalo. \n",
    " \n",
    "5 → 5 + 6 = 11 y 11 es primo \n",
    "(5,11) "
   ]
  },
  {
   "cell_type": "code",
   "execution_count": 1,
   "metadata": {},
   "outputs": [
    {
     "name": "stdout",
     "output_type": "stream",
     "text": [
      "[1, 2, 3, 5, 7, 11, 13, 17, 19, 23, 29, 31, 37, 41, 43, 47, 53, 59, 61, 67, 71, 73, 79, 83, 89, 97]\n"
     ]
    }
   ],
   "source": [
    "#programa que genera una lista de numeros primos en un cierto rango\n",
    "nums = range(1,100)\n",
    "\n",
    "def is_prime(num):\n",
    "    for x in range(2,num):\n",
    "        if (num%x) == 0:\n",
    "            return False\n",
    "    return True\n",
    "\n",
    "primes = list(filter(is_prime, nums))\n",
    "\n",
    "print(primes)"
   ]
  },
  {
   "cell_type": "code",
   "execution_count": 17,
   "metadata": {},
   "outputs": [],
   "source": [
    "def es_sexy(p):\n",
    "    \n",
    "    #verificar si p esta en un rango de cero a 100\n",
    "    if not ( 0 <= p <= 100 ):\n",
    "        return print(\"El numero no està en un rango de 0 a 100\")\n",
    "    \n",
    "    #verificar si es sexy\n",
    "    elif p in primes:\n",
    "        suma = p + 6 \n",
    "        if suma in primes:\n",
    "            return print(p, \"Es un primo sexy y el primo que le sigue es\", suma)\n",
    "        else:\n",
    "            return print(f\"{p} no es un primo sexy ya que el numero siguiente es\", suma)"
   ]
  },
  {
   "cell_type": "code",
   "execution_count": 18,
   "metadata": {},
   "outputs": [
    {
     "name": "stdout",
     "output_type": "stream",
     "text": [
      "El numero no està en un rango de 0 a 100\n",
      "5 Es un primo sexy y el primo que le sigue es 11\n",
      "89 no es un primo sexy ya que el numero siguiente es 95\n"
     ]
    }
   ],
   "source": [
    "es_sexy(101)\n",
    "es_sexy(5)\n",
    "es_sexy(89)"
   ]
  },
  {
   "cell_type": "code",
   "execution_count": null,
   "metadata": {},
   "outputs": [],
   "source": []
  }
 ],
 "metadata": {
  "kernelspec": {
   "display_name": "Mipentorno",
   "language": "python",
   "name": "python3"
  },
  "language_info": {
   "codemirror_mode": {
    "name": "ipython",
    "version": 3
   },
   "file_extension": ".py",
   "mimetype": "text/x-python",
   "name": "python",
   "nbconvert_exporter": "python",
   "pygments_lexer": "ipython3",
   "version": "3.12.8"
  }
 },
 "nbformat": 4,
 "nbformat_minor": 2
}
