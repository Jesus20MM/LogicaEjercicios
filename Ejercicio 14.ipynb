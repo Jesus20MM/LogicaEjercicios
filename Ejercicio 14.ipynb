{
 "cells": [
  {
   "cell_type": "markdown",
   "metadata": {},
   "source": []
  },
  {
   "cell_type": "markdown",
   "metadata": {},
   "source": [
    "Un número de Kaprekar  es un entero positivo \n",
    "de n dígitos tal que resulta de sumar los n últimos \n",
    "dígitos de su cuadrado con los n o n-1 primeros dígitos \n",
    "de dicho cuadrado, siendo ambos sumandos no nulos. \n",
    "Los primeros números de Kaprekar son : \n",
    "9𝟐=8𝟏→𝟏+𝟖=𝟗 \n",
    "�\n",
    "�𝟓𝟐=𝟐𝟎𝟐𝟓→𝟐𝟎+𝟐𝟓=𝟒𝟓 \n",
    "�\n",
    "�𝟓𝟐=𝟑𝟎𝟐𝟓→𝟑𝟎+𝟐𝟓=𝟓𝟓 \n",
    "�\n",
    "�𝟗𝟐=𝟗𝟖𝟎𝟏→𝟗𝟖+𝟎𝟏=𝟗𝟗 \n",
    "�\n",
    "�𝟗𝟕𝟐=𝟖𝟖𝟐𝟎𝟗→𝟖𝟖+𝟐𝟗𝟕\n",
    " =𝟖𝟖𝟐𝟎𝟗 \n",
    "�\n",
    "�𝟎𝟑𝟐=𝟒𝟗𝟒𝟐𝟎𝟗→𝟒𝟗𝟒+𝟐𝟎𝟗\n",
    " =𝟕𝟎𝟑 \n",
    "�\n",
    "�𝟗𝟗𝟐=𝟗𝟗𝟖𝟎𝟎𝟏→𝟗𝟗𝟖+𝟏=𝟗𝟗𝟗 \n",
    "�\n",
    "�𝟐𝟐𝟑𝟐=𝟒𝟗𝟒𝟏𝟕𝟐𝟗→𝟒𝟗𝟒+𝟏𝟕𝟐𝟗\n",
    " =𝟒𝟗𝟒𝟏𝟕𝟐𝟗 "
   ]
  },
  {
   "cell_type": "code",
   "execution_count": null,
   "metadata": {},
   "outputs": [],
   "source": []
  }
 ],
 "metadata": {
  "kernelspec": {
   "display_name": "Mipentorno",
   "language": "python",
   "name": "python3"
  },
  "language_info": {
   "name": "python",
   "version": "3.12.8"
  }
 },
 "nbformat": 4,
 "nbformat_minor": 2
}
