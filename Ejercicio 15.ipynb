{
 "cells": [
  {
   "cell_type": "markdown",
   "metadata": {},
   "source": [
    "uadrados invertidos \n",
    "Algunos números tienen la particularidad que si \n",
    "los elevamos al cuadrado obtenemos como \n",
    "resultado un numero que es el invertido del \n",
    "cuadrado del numero invertido. Por ejemplo: \n",
    "12² = 144 y 21² = 441  \n",
    "13² = 169 y 31² = 961  \n",
    "Encuentra todos los cuadrados invertidos \n",
    "debajo de un número dado. "
   ]
  },
  {
   "cell_type": "code",
   "execution_count": 24,
   "metadata": {},
   "outputs": [],
   "source": [
    "def cuadrado_invertido(n):\n",
    "    #k es el numero que se ingresa\n",
    "    #n es el cuadrado de k\n",
    "    \n",
    "    \n",
    "   \n",
    "    #invertir k\n",
    "    k_lista= list(str(n**2))\n",
    "    k_lista.reverse()\n",
    "    k_invertido = int(''.join(map(str, k_lista)))#ya tenemos como numero a k invertido\n",
    "    \n",
    "    #invertir n\n",
    "    n_lista= list(str(n))\n",
    "    n_lista.reverse()\n",
    "    n_invertido = int(''.join(map(str, n_lista)))#ya tenemos como numero a n invertido\n",
    "\n",
    "    print(\"n es:\", n)\n",
    "    print(\"k es:\", n**2)\n",
    "    print(\"n invertido es:\", n_invertido)\n",
    "    print(\"k invertido es:\", k_invertido)\n",
    "    \n",
    " #comprobar que k invertido es igual a n invertido\n",
    "    if  k_invertido == n_invertido**2:\n",
    "        return print(f\"{n} es un cuadrado invertido\")\n",
    "    else:\n",
    "        return print(f\"{n} No es un cuadrado invertido\")\n",
    "\n",
    "   \n"
   ]
  },
  {
   "cell_type": "code",
   "execution_count": 25,
   "metadata": {},
   "outputs": [
    {
     "name": "stdout",
     "output_type": "stream",
     "text": [
      "n es: 12\n",
      "k es: 144\n",
      "n invertido es: 21\n",
      "k invertido es: 441\n",
      "12 es un cuadrado invertido\n"
     ]
    }
   ],
   "source": [
    "cuadrado_invertido(12)"
   ]
  },
  {
   "cell_type": "code",
   "execution_count": 26,
   "metadata": {},
   "outputs": [
    {
     "name": "stdout",
     "output_type": "stream",
     "text": [
      "n es: 13\n",
      "k es: 169\n",
      "n invertido es: 31\n",
      "k invertido es: 961\n",
      "13 es un cuadrado invertido\n"
     ]
    }
   ],
   "source": [
    "cuadrado_invertido(13)"
   ]
  },
  {
   "cell_type": "code",
   "execution_count": null,
   "metadata": {},
   "outputs": [],
   "source": []
  }
 ],
 "metadata": {
  "kernelspec": {
   "display_name": "Mipentorno",
   "language": "python",
   "name": "python3"
  },
  "language_info": {
   "codemirror_mode": {
    "name": "ipython",
    "version": 3
   },
   "file_extension": ".py",
   "mimetype": "text/x-python",
   "name": "python",
   "nbconvert_exporter": "python",
   "pygments_lexer": "ipython3",
   "version": "3.12.8"
  }
 },
 "nbformat": 4,
 "nbformat_minor": 2
}
