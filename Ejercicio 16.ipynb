{
 "cells": [
  {
   "cell_type": "markdown",
   "id": "60400f79",
   "metadata": {},
   "source": [
    "e dice que dos números son amigos si la \n",
    "suma de los divisores de cada uno de ellos es \n",
    "igual al otro número. \n",
    "Los números 220 y 284 son amigos. Los \n",
    "divisores de 220 son: 1, 2, 4, 5, 10, 11, 20, 22, \n",
    "44, 55, 110 y 220, si los sumamos (excluyendo \n",
    "220) da 284. Los divisores de 284 son: 1, 2, 4, \n",
    "71, 142 y 284, si los sumamos (excluyendo \n",
    "284) da 220.Otros amigos \n",
    "220  \n",
    "1 184  \n",
    "2 620  \n",
    "5 020  \n",
    "6 232  \n",
    "10 744  \n",
    "12 285  \n",
    "17 296  \n",
    "63 020  \n",
    "66 928  \n",
    "67 095  \n",
    "69 615  \n",
    "79 750  \n",
    "100 485  \n",
    "122 265  \n",
    "284  \n",
    "1 210  \n",
    "2 924  \n",
    "5 564  \n",
    "6 368  \n",
    "10 856  \n",
    "14 595  \n",
    "18 416  \n",
    "76 084  \n",
    "66 992  \n",
    "71 145  \n",
    "87 633  \n",
    "88 730  \n",
    "124 155  \n",
    "139 815 "
   ]
  },
  {
   "cell_type": "code",
   "execution_count": 24,
   "id": "acadf5b8",
   "metadata": {},
   "outputs": [],
   "source": [
    "def amigos(n, k):\n",
    "    \n",
    "    #obtener los divisores propios de n\n",
    "    divisores_n = []\n",
    "    for i in range(1, n):\n",
    "        if n % i == 0:\n",
    "            divisores_n.append(i)\n",
    "    a = sum(divisores_n)\n",
    "    \n",
    "    divisores_k = []\n",
    "    for i in range(1, k):\n",
    "        if k % i == 0:\n",
    "            divisores_k.append(i)\n",
    "    b = sum(divisores_k)\n",
    "    \n",
    "    if a == k and b == n:\n",
    "        return print(f'{(n,k)} son amigos')\n",
    "    else:\n",
    "        return print(f'{(n,k)} no son amigos')\n",
    "    "
   ]
  },
  {
   "cell_type": "code",
   "execution_count": 25,
   "id": "811f72a0",
   "metadata": {},
   "outputs": [
    {
     "name": "stdout",
     "output_type": "stream",
     "text": [
      "(220, 284) son amigos\n"
     ]
    }
   ],
   "source": [
    "amigos(220,284)"
   ]
  },
  {
   "cell_type": "code",
   "execution_count": null,
   "id": "2e0c0031",
   "metadata": {},
   "outputs": [],
   "source": []
  }
 ],
 "metadata": {
  "kernelspec": {
   "display_name": "Mipentorno",
   "language": "python",
   "name": "python3"
  },
  "language_info": {
   "codemirror_mode": {
    "name": "ipython",
    "version": 3
   },
   "file_extension": ".py",
   "mimetype": "text/x-python",
   "name": "python",
   "nbconvert_exporter": "python",
   "pygments_lexer": "ipython3",
   "version": "3.12.8"
  }
 },
 "nbformat": 4,
 "nbformat_minor": 5
}
