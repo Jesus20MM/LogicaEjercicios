{
 "cells": [
  {
   "cell_type": "markdown",
   "id": "9eb948d3",
   "metadata": {},
   "source": [
    "Un número de Dudeney es un entero que es un \n",
    "cubo perfecto, de forma que la suma de sus \n",
    "dígitos da como resultado la raíz cúbica del \n",
    "número. Por ejemplo: \n",
    "1 =  1 x  1 x  1   ;   1 = 1 \n",
    "512 =  8 x  8 x  8   ;   8 = 5 + 1 + 2 \n",
    "4913 = 17 x 17 x 17   ;  17 = 4 + 9 + 1 + 3 \n",
    "5832 = 18 x 18 x 18   ;  18 = 5 + 8 + 3 + 2 \n",
    "17576 = 26 x 26 x 26   ;  26 = 1 + 7 + 5 + 7 + 6 \n",
    "19683 = 27 x 27 x 27   ;  27 = 1 + 9 + 6 + 8 + 3 "
   ]
  },
  {
   "cell_type": "code",
   "execution_count": 44,
   "id": "7a00c77e",
   "metadata": {},
   "outputs": [],
   "source": [
    "def es_dudeney(n):\n",
    "   \n",
    "    #comprobar qu n es cubo perfecto\n",
    "    raiz_cubica = round(n ** (1/3))\n",
    "    if raiz_cubica ** 3 == n:\n",
    "        \n",
    "        digitos_ncuadrada = str(n)\n",
    "        digitos_enteros_ncuadrada = list(map(int, digitos_ncuadrada))\n",
    "        suma_digitos_n = sum(digitos_enteros_ncuadrada)\n",
    "        #print(n, \"Tiene raíz cúbica exacta y es: \", raiz_cubica)\n",
    "        \n",
    "        if suma_digitos_n == raiz_cubica:\n",
    "            return print(f'{n} es un numero dudeney')\n",
    "        else:\n",
    "            return print(f'{n} NO es un numero dudeney')\n",
    "    \n",
    "    else:\n",
    "        print(n, \"No tiene raíz cúbica exacta por lo tanto tampoco es un numero dudeney\")\n",
    "    \n",
    "    \n",
    "        \n",
    "    \n",
    "\n",
    "    "
   ]
  },
  {
   "cell_type": "code",
   "execution_count": 45,
   "id": "5cfb7415",
   "metadata": {},
   "outputs": [
    {
     "name": "stdout",
     "output_type": "stream",
     "text": [
      "0 es un numero dudeney\n",
      "1 es un numero dudeney\n",
      "512 es un numero dudeney\n",
      "125 NO es un numero dudeney\n",
      "90 No tiene raíz cúbica exacta por lo tanto tampoco es un numero dudeney\n"
     ]
    }
   ],
   "source": [
    "#caso de uso\n",
    "numeros_posibles = [0, 1, 512, 125, 90]\n",
    "for i in numeros_posibles:\n",
    "    \n",
    "    es_dudeney(i)"
   ]
  },
  {
   "cell_type": "markdown",
   "id": "cfe8e56c",
   "metadata": {},
   "source": [
    "Note que todavía podemos estudiar qué pasa cuando se insertan valores negativos"
   ]
  },
  {
   "cell_type": "code",
   "execution_count": null,
   "id": "4ca1be99",
   "metadata": {},
   "outputs": [],
   "source": []
  }
 ],
 "metadata": {
  "kernelspec": {
   "display_name": "Mipentorno",
   "language": "python",
   "name": "python3"
  },
  "language_info": {
   "codemirror_mode": {
    "name": "ipython",
    "version": 3
   },
   "file_extension": ".py",
   "mimetype": "text/x-python",
   "name": "python",
   "nbconvert_exporter": "python",
   "pygments_lexer": "ipython3",
   "version": "3.12.8"
  }
 },
 "nbformat": 4,
 "nbformat_minor": 5
}
