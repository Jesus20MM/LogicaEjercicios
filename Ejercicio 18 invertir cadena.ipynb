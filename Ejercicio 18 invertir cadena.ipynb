{
 "cells": [
  {
   "cell_type": "markdown",
   "id": "1d59ce04",
   "metadata": {},
   "source": [
    "# \tInvertir una cadena"
   ]
  },
  {
   "cell_type": "markdown",
   "id": "d9a735c6",
   "metadata": {},
   "source": [
    "Escribe una función en Python que tome una cadena de texto como entrada y devuelva una nueva cadena con los caracteres en orden inverso."
   ]
  },
  {
   "cell_type": "markdown",
   "id": "ab503ce8",
   "metadata": {},
   "source": [
    "### Usando slicing"
   ]
  },
  {
   "cell_type": "code",
   "execution_count": 1,
   "id": "8869ed00",
   "metadata": {},
   "outputs": [],
   "source": [
    "def invertir(cadena):\n",
    "    cadena_invertida = cadena[::-1]\n",
    "    return cadena_invertida"
   ]
  },
  {
   "cell_type": "code",
   "execution_count": 2,
   "id": "9ec0814a",
   "metadata": {},
   "outputs": [
    {
     "data": {
      "text/plain": [
       "'odnuM aloH'"
      ]
     },
     "execution_count": 2,
     "metadata": {},
     "output_type": "execute_result"
    }
   ],
   "source": [
    "invertir(\"Hola Mundo\")"
   ]
  },
  {
   "cell_type": "markdown",
   "id": "9199e412",
   "metadata": {},
   "source": [
    "El slicing es una forma de extraer partes (subconjuntos) de una secuencia (como una cadena o una lista), usando esta sintaxis:\n",
    "\n",
    "secuencia[inicio:fin:paso]\n",
    "\n",
    "- inicio: posición desde donde empieza el corte (incluido).\n",
    "\n",
    "- fin: posición donde termina el corte (no incluido).\n",
    "\n",
    "- paso: con qué intervalo avanzar (puede ser negativo para ir hacia atrás).\n",
    "\n"
   ]
  },
  {
   "cell_type": "markdown",
   "id": "511f5832",
   "metadata": {},
   "source": [
    "\n",
    "### Sin slicing"
   ]
  },
  {
   "cell_type": "code",
   "execution_count": null,
   "id": "b25757b8",
   "metadata": {},
   "outputs": [
    {
     "name": "stdout",
     "output_type": "stream",
     "text": [
      "odnum aloH\n"
     ]
    }
   ],
   "source": [
    "def invertir_cadena(cadena):\n",
    "    invertida = \"\"#cadena vacia para usar tras finalizar el for\n",
    "    for caracter in cadena:#recorrer cada elemento de la variable \"cadena\"\n",
    "        invertida = caracter + invertida#cada recorrido se agrega una palabra o elemento de la variable \"cadena\" y se concatena con la anterior\n",
    "    return invertida\n",
    "\"\"\"Empieza con la H, y despues la H se recorre una posicion porque detras \n",
    "ya entró en otro for que trae a la \"o\", dando como resultado oH. Y asi sucesivamente hasta terminar con todos los elementos de la cadena\"\"\"\n",
    "\n",
    "\n",
    "\"\"\"Desglosemos algunos for\n",
    "for 1: caracter: \"\"\n",
    "       invertida: H + \"\"\n",
    "        \n",
    "for 2:  caracter: \"o\"\n",
    "        invertida: o + \"H\"\n",
    "\n",
    "for 3:  caracter: \"l\"\n",
    "        invertida: l + \"oH\"\n",
    "\n",
    "for 4:  caracter: \"a\"\n",
    "        invertida: a + \"loH\"\n",
    "\n",
    "\"\"\"\n",
    "\n",
    "\n",
    "\n",
    "\n",
    "\n",
    "\n",
    "\n",
    "\n",
    "\n",
    "# Ejemplo de uso\n",
    "texto = \"Hola mundo\"\n",
    "resultado = invertir_cadena(texto)\n",
    "print(resultado)\n"
   ]
  },
  {
   "cell_type": "code",
   "execution_count": null,
   "id": "4a385a5c",
   "metadata": {},
   "outputs": [],
   "source": []
  },
  {
   "cell_type": "code",
   "execution_count": null,
   "id": "129ad7af",
   "metadata": {},
   "outputs": [],
   "source": []
  },
  {
   "cell_type": "code",
   "execution_count": null,
   "id": "feeba747",
   "metadata": {},
   "outputs": [],
   "source": [
    "def invertir():\n",
    "    cadena_invertida = \"\"\n",
    "    for i in cadena_invertida:\n",
    "        cadena_invertida = i + cadena_invertida\n",
    "    \n",
    "    return cadena_invertida"
   ]
  }
 ],
 "metadata": {
  "kernelspec": {
   "display_name": "Mipentorno",
   "language": "python",
   "name": "python3"
  },
  "language_info": {
   "codemirror_mode": {
    "name": "ipython",
    "version": 3
   },
   "file_extension": ".py",
   "mimetype": "text/x-python",
   "name": "python",
   "nbconvert_exporter": "python",
   "pygments_lexer": "ipython3",
   "version": "3.12.8"
  }
 },
 "nbformat": 4,
 "nbformat_minor": 5
}
