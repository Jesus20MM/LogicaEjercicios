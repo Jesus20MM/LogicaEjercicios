{
 "cells": [
  {
   "cell_type": "markdown",
   "id": "1d59ce04",
   "metadata": {},
   "source": [
    "# \tInvertir una cadena"
   ]
  },
  {
   "cell_type": "markdown",
   "id": "d9a735c6",
   "metadata": {},
   "source": []
  }
 ],
 "metadata": {
  "language_info": {
   "name": "python"
  }
 },
 "nbformat": 4,
 "nbformat_minor": 5
}
