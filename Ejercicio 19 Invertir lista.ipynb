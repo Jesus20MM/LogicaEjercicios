{
 "cells": [
  {
   "cell_type": "code",
   "execution_count": null,
   "id": "03d8e6e3",
   "metadata": {},
   "outputs": [],
   "source": []
  },
  {
   "cell_type": "markdown",
   "id": "3114b5fb",
   "metadata": {},
   "source": [
    "# Invertir una lista"
   ]
  },
  {
   "cell_type": "markdown",
   "id": "81ca021c",
   "metadata": {},
   "source": [
    "Escribe una función en Python llamada invertir_lista que reciba como argumento una lista de elementos y devuelva una nueva lista con los elementos en orden inverso."
   ]
  },
  {
   "cell_type": "markdown",
   "id": "6feaf81c",
   "metadata": {},
   "source": [
    "### lista string"
   ]
  },
  {
   "cell_type": "code",
   "execution_count": 13,
   "id": "3c469afa",
   "metadata": {},
   "outputs": [],
   "source": [
    "def invertir_lista(lista):\n",
    "    invertida = \"\"\n",
    "    for caracter in lista:\n",
    "        invertida = caracter + invertida\n",
    "    return invertida"
   ]
  },
  {
   "cell_type": "code",
   "execution_count": 14,
   "id": "1387c568",
   "metadata": {},
   "outputs": [
    {
     "data": {
      "text/plain": [
       "'pruebaMundoHola'"
      ]
     },
     "execution_count": 14,
     "metadata": {},
     "output_type": "execute_result"
    }
   ],
   "source": [
    "lista_string = [\"Hola\", \"Mundo\", \"prueba\"]\n",
    "invertir_lista(lista_string)\n"
   ]
  },
  {
   "cell_type": "markdown",
   "id": "3c077ab9",
   "metadata": {},
   "source": [
    "### Lista general (para enteros y strings)"
   ]
  },
  {
   "cell_type": "code",
   "execution_count": 7,
   "id": "6fe92f8b",
   "metadata": {},
   "outputs": [],
   "source": [
    "def invertir_lista(lista_general):\n",
    "    invertida = []\n",
    "    for elemento in lista_general:\n",
    "        invertida = [elemento] + invertida\n",
    "    return invertida\n"
   ]
  },
  {
   "cell_type": "code",
   "execution_count": 8,
   "id": "c2408caa",
   "metadata": {},
   "outputs": [
    {
     "data": {
      "text/plain": [
       "[9, 8, 7, 6, 5, 4, 3, 2, 1]"
      ]
     },
     "execution_count": 8,
     "metadata": {},
     "output_type": "execute_result"
    }
   ],
   "source": [
    "lista_entera = [1,2,3,4,5,6,7,8,9]\n",
    "invertir_lista(lista_entera)"
   ]
  },
  {
   "cell_type": "code",
   "execution_count": null,
   "id": "d54c0010",
   "metadata": {},
   "outputs": [],
   "source": []
  }
 ],
 "metadata": {
  "kernelspec": {
   "display_name": "Mipentorno",
   "language": "python",
   "name": "python3"
  },
  "language_info": {
   "codemirror_mode": {
    "name": "ipython",
    "version": 3
   },
   "file_extension": ".py",
   "mimetype": "text/x-python",
   "name": "python",
   "nbconvert_exporter": "python",
   "pygments_lexer": "ipython3",
   "version": "3.12.8"
  }
 },
 "nbformat": 4,
 "nbformat_minor": 5
}
