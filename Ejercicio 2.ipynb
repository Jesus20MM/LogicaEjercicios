{
 "cells": [
  {
   "cell_type": "code",
   "execution_count": null,
   "metadata": {},
   "outputs": [],
   "source": []
  },
  {
   "cell_type": "markdown",
   "metadata": {},
   "source": [
    "Números ambiciosos \n",
    "Cumple la propiedad siguiente: sea N un numero \n",
    "natural, si se suman sus divisores propios y del \n",
    "resultado se vuelven a sumar sus divisores propios y \n",
    "del resultado se vuelven a sumar sus divisores \n",
    "propios… y el resultado es un numero perfecto, \n",
    "entonces N es un numero Ambicioso. \n",
    " \n",
    "95 es ambicioso ya que sus divisores son 1+5+19=25 \n",
    "Y los divisores de 25 son 1+5=6 y 6 es perfecto. "
   ]
  },
  {
   "cell_type": "code",
   "execution_count": null,
   "metadata": {},
   "outputs": [],
   "source": []
  },
  {
   "cell_type": "markdown",
   "metadata": {},
   "source": [
    "#### Version base del codigo\n",
    "\n"
   ]
  },
  {
   "cell_type": "code",
   "execution_count": 2,
   "metadata": {},
   "outputs": [],
   "source": [
    "def divisores_propios_k(k):\n",
    "    \"\"\"Devuelve una lista con los divisores propios de n.\"\"\"\n",
    "    divisores1 = []\n",
    "    for i in range(1, k):  # Recorre desde 1 hasta n-1\n",
    "        if k % i == 0:  # Si i es divisor de n\n",
    "            divisores1.append(i)#se usa para agregar un elemento al final de una lista.\n",
    "    return divisores1\n",
    "\n"
   ]
  },
  {
   "cell_type": "code",
   "execution_count": 3,
   "metadata": {},
   "outputs": [],
   "source": [
    "def divisores_propios_posible_perfecto(posible_perfecto):\n",
    "    \"\"\"Devuelve una lista con los divisores propios de n.\"\"\"\n",
    "    divisores = []\n",
    "    for i in range(1, posible_perfecto):  # Recorre desde 1 hasta n-1\n",
    "        if posible_perfecto % i == 0:  # Si i es divisor de n\n",
    "            divisores.append(i)#se usa para agregar un elemento al final de una lista.\n",
    "    return divisores\n",
    "\n",
    "\n"
   ]
  },
  {
   "cell_type": "code",
   "execution_count": null,
   "metadata": {},
   "outputs": [],
   "source": [
    "#encontrar los divisores propios de un  umero n\n",
    "def es_ambicioso(n):\n",
    "    \"\"\"Devuelve una lista con los divisores propios de n.\"\"\"\n",
    "    divisores = []\n",
    "    for i in range(1, n):  # Recorre desde 1 hasta n-1\n",
    "        if n % i == 0:  # Si i es divisor de n\n",
    "            divisores.append(i)#se usa para agregar un elemento al final de una lista.\n",
    "            k = sum(divisores)#16\n",
    "            \n",
    "            x = divisores_propios_k(k)\n",
    "            posible_perfecto = sum(x)#15\n",
    "            \n",
    "            divisores_posible_perfecto = divisores_propios_posible_perfecto(posible_perfecto)\n",
    "            suma_divisiores_posible_perfecto = sum(divisores_posible_perfecto)#9\n",
    "            \n",
    "    if suma_divisiores_posible_perfecto == posible_perfecto:\n",
    "        print(n, \"Es un numero ambicioso\")\n",
    "    else:\n",
    "        print(n, \"No es un numero ambicioso\")\n",
    "    #return suma_divisiores_pisoble_perfecto"
   ]
  },
  {
   "cell_type": "code",
   "execution_count": 5,
   "metadata": {},
   "outputs": [
    {
     "name": "stdout",
     "output_type": "stream",
     "text": [
      "143 Es un numero ambicioso\n"
     ]
    }
   ],
   "source": [
    "es_ambicioso(143)"
   ]
  },
  {
   "cell_type": "code",
   "execution_count": null,
   "metadata": {},
   "outputs": [],
   "source": []
  },
  {
   "cell_type": "code",
   "execution_count": null,
   "metadata": {},
   "outputs": [],
   "source": []
  },
  {
   "cell_type": "code",
   "execution_count": null,
   "metadata": {},
   "outputs": [],
   "source": []
  },
  {
   "cell_type": "code",
   "execution_count": null,
   "metadata": {},
   "outputs": [],
   "source": []
  },
  {
   "cell_type": "code",
   "execution_count": null,
   "metadata": {},
   "outputs": [],
   "source": []
  },
  {
   "cell_type": "code",
   "execution_count": null,
   "metadata": {},
   "outputs": [],
   "source": []
  },
  {
   "cell_type": "code",
   "execution_count": null,
   "metadata": {},
   "outputs": [],
   "source": []
  },
  {
   "cell_type": "code",
   "execution_count": null,
   "metadata": {},
   "outputs": [],
   "source": []
  },
  {
   "cell_type": "code",
   "execution_count": 15,
   "metadata": {},
   "outputs": [
    {
     "data": {
      "text/plain": [
       "[1, 2, 3, 4, 6]"
      ]
     },
     "execution_count": 15,
     "metadata": {},
     "output_type": "execute_result"
    }
   ],
   "source": [
    "#encontrar los divisores propios de un  umero n\n",
    "def divisores_propios_de_n(n):\n",
    "    \"\"\"Devuelve una lista con los divisores propios de n.\"\"\"\n",
    "    divisores = []\n",
    "    for i in range(1, n):  # Recorre desde 1 hasta n-1\n",
    "        if n % i == 0:  # Si i es divisor de n\n",
    "            divisores.append(i)#se usa para agregar un elemento al final de una lista.\n",
    "    return divisores\n",
    "\n",
    "divisores_propios_de_n(12)\n"
   ]
  },
  {
   "cell_type": "code",
   "execution_count": 16,
   "metadata": {},
   "outputs": [
    {
     "ename": "ValueError",
     "evalue": "invalid literal for int() with base 10: ''",
     "output_type": "error",
     "traceback": [
      "\u001b[1;31m---------------------------------------------------------------------------\u001b[0m",
      "\u001b[1;31mValueError\u001b[0m                                Traceback (most recent call last)",
      "Cell \u001b[1;32mIn[16], line 2\u001b[0m\n\u001b[0;32m      1\u001b[0m \u001b[38;5;66;03m#sumamos los elementos de la lista de los divisores propios de n\u001b[39;00m\n\u001b[1;32m----> 2\u001b[0m n\u001b[38;5;241m=\u001b[39m\u001b[38;5;28mint\u001b[39m(\u001b[38;5;28minput\u001b[39m(\u001b[38;5;124m\"\u001b[39m\u001b[38;5;124mIngresa el numero: \u001b[39m\u001b[38;5;124m\"\u001b[39m))\n\u001b[0;32m      3\u001b[0m numeros \u001b[38;5;241m=\u001b[39m  divisores_propios_de_n(n)\n\u001b[0;32m      4\u001b[0m k \u001b[38;5;241m=\u001b[39m \u001b[38;5;28msum\u001b[39m(numeros)\n",
      "\u001b[1;31mValueError\u001b[0m: invalid literal for int() with base 10: ''"
     ]
    }
   ],
   "source": [
    "#sumamos los elementos de la lista de los divisores propios de n\n",
    "n=int(input(\"Ingresa el numero: \"))\n",
    "numeros =  divisores_propios_de_n(n)\n",
    "k = sum(numeros)\n",
    "print(k) "
   ]
  },
  {
   "cell_type": "code",
   "execution_count": 17,
   "metadata": {},
   "outputs": [],
   "source": [
    "#encontrar los divisores propios de la suma de los divisores propios de n\n",
    "def divisores_propios_k(k):\n",
    "    \"\"\"Devuelve una lista con los divisores propios de n.\"\"\"\n",
    "    divisores = []\n",
    "    for i in range(1, k):  # Recorre desde 1 hasta n-1\n",
    "        if k % i == 0:  # Si i es divisor de n\n",
    "            divisores.append(i)#se usa para agregar un elemento al final de una lista.\n",
    "    return divisores\n",
    "\n",
    "\n"
   ]
  },
  {
   "cell_type": "code",
   "execution_count": 29,
   "metadata": {},
   "outputs": [
    {
     "data": {
      "text/plain": [
       "[1, 2, 4, 8]"
      ]
     },
     "execution_count": 29,
     "metadata": {},
     "output_type": "execute_result"
    }
   ],
   "source": [
    "divisores_propios_k(k)"
   ]
  },
  {
   "cell_type": "code",
   "execution_count": 31,
   "metadata": {},
   "outputs": [
    {
     "name": "stdout",
     "output_type": "stream",
     "text": [
      "15\n"
     ]
    }
   ],
   "source": [
    "\n",
    "divisoresPropios_k =  divisores_propios_k(k)\n",
    "posible_perfecto = sum(divisoresPropios_k)\n",
    "print(posible_perfecto) "
   ]
  },
  {
   "cell_type": "code",
   "execution_count": 30,
   "metadata": {},
   "outputs": [],
   "source": [
    "def divisores_propios_posible_perfecto(posible_perfecto):\n",
    "    \"\"\"Devuelve una lista con los divisores propios de n.\"\"\"\n",
    "    divisores = []\n",
    "    for i in range(1, posible_perfecto):  # Recorre desde 1 hasta n-1\n",
    "        if posible_perfecto % i == 0:  # Si i es divisor de n\n",
    "            divisores.append(i)#se usa para agregar un elemento al final de una lista.\n",
    "    return divisores"
   ]
  },
  {
   "cell_type": "code",
   "execution_count": 31,
   "metadata": {},
   "outputs": [
    {
     "ename": "NameError",
     "evalue": "name 'posible_perfecto' is not defined",
     "output_type": "error",
     "traceback": [
      "\u001b[1;31m---------------------------------------------------------------------------\u001b[0m",
      "\u001b[1;31mNameError\u001b[0m                                 Traceback (most recent call last)",
      "Cell \u001b[1;32mIn[31], line 1\u001b[0m\n\u001b[1;32m----> 1\u001b[0m divisores_propios_posible_perfecto(posible_perfecto)\n",
      "\u001b[1;31mNameError\u001b[0m: name 'posible_perfecto' is not defined"
     ]
    }
   ],
   "source": [
    "divisores_propios_posible_perfecto(posible_perfecto)"
   ]
  },
  {
   "cell_type": "code",
   "execution_count": 21,
   "metadata": {},
   "outputs": [
    {
     "ename": "NameError",
     "evalue": "name 'posible_perfecto' is not defined",
     "output_type": "error",
     "traceback": [
      "\u001b[1;31m---------------------------------------------------------------------------\u001b[0m",
      "\u001b[1;31mNameError\u001b[0m                                 Traceback (most recent call last)",
      "Cell \u001b[1;32mIn[21], line 1\u001b[0m\n\u001b[1;32m----> 1\u001b[0m perfecto \u001b[38;5;241m=\u001b[39m  divisores_propios_posible_perfecto(posible_perfecto)\n\u001b[0;32m      2\u001b[0m sum_perfecto \u001b[38;5;241m=\u001b[39m \u001b[38;5;28msum\u001b[39m(perfecto)\n\u001b[0;32m      3\u001b[0m \u001b[38;5;28mprint\u001b[39m(sum_perfecto)\n",
      "\u001b[1;31mNameError\u001b[0m: name 'posible_perfecto' is not defined"
     ]
    }
   ],
   "source": [
    "perfecto =  divisores_propios_posible_perfecto(posible_perfecto)\n",
    "sum_perfecto = sum(perfecto)\n",
    "print(sum_perfecto) "
   ]
  },
  {
   "cell_type": "markdown",
   "metadata": {},
   "source": []
  },
  {
   "cell_type": "markdown",
   "metadata": {},
   "source": []
  },
  {
   "cell_type": "code",
   "execution_count": null,
   "metadata": {},
   "outputs": [],
   "source": []
  },
  {
   "cell_type": "markdown",
   "metadata": {},
   "source": []
  },
  {
   "cell_type": "markdown",
   "metadata": {},
   "source": []
  },
  {
   "cell_type": "code",
   "execution_count": 64,
   "metadata": {},
   "outputs": [
    {
     "data": {
      "text/plain": [
       "[1, 11, 13]"
      ]
     },
     "execution_count": 64,
     "metadata": {},
     "output_type": "execute_result"
    }
   ],
   "source": [
    "#encontrar los divisores propios de un  umero n\n",
    "def divisores_propios_de_n(n):\n",
    "    \"\"\"Devuelve una lista con los divisores propios de n.\"\"\"\n",
    "    divisores = []\n",
    "    for i in range(1, n):  # Recorre desde 1 hasta n-1\n",
    "        if n % i == 0:  # Si i es divisor de n\n",
    "            divisores.append(i)#se usa para agregar un elemento al final de una lista.\n",
    "    return divisores\n",
    "\n",
    "divisores_propios_de_n(143)"
   ]
  },
  {
   "cell_type": "code",
   "execution_count": 65,
   "metadata": {},
   "outputs": [
    {
     "data": {
      "text/plain": [
       "[1, 5]"
      ]
     },
     "execution_count": 65,
     "metadata": {},
     "output_type": "execute_result"
    }
   ],
   "source": [
    "#encontrar los divisores propios de la suma de los divisores propios de n\n",
    "def divisores_propios_k(k):\n",
    "    \"\"\"Devuelve una lista con los divisores propios de n.\"\"\"\n",
    "    divisores1 = []\n",
    "    for i in range(1, k):  # Recorre desde 1 hasta n-1\n",
    "        if k % i == 0:  # Si i es divisor de n\n",
    "            divisores1.append(i)#se usa para agregar un elemento al final de una lista.\n",
    "    return divisores1\n",
    "\n",
    "divisores_propios_k(25)"
   ]
  },
  {
   "cell_type": "code",
   "execution_count": 66,
   "metadata": {},
   "outputs": [
    {
     "data": {
      "text/plain": [
       "[1, 2, 3]"
      ]
     },
     "execution_count": 66,
     "metadata": {},
     "output_type": "execute_result"
    }
   ],
   "source": [
    "def divisores_propios_posible_perfecto(posible_perfecto):\n",
    "    \"\"\"Devuelve una lista con los divisores propios de n.\"\"\"\n",
    "    divisores = []\n",
    "    for i in range(1, posible_perfecto):  # Recorre desde 1 hasta n-1\n",
    "        if posible_perfecto % i == 0:  # Si i es divisor de n\n",
    "            divisores.append(i)#se usa para agregar un elemento al final de una lista.\n",
    "    return divisores\n",
    "\n",
    "\n",
    "divisores_propios_posible_perfecto(6)"
   ]
  },
  {
   "cell_type": "markdown",
   "metadata": {},
   "source": [
    "Solo se conocen 16 números ambiciosos, 25, 95, 119, 143, 417, 445, 565, 608, 650, 652, 675, 685, 783, 790, 909, 913,"
   ]
  },
  {
   "cell_type": "code",
   "execution_count": 59,
   "metadata": {},
   "outputs": [],
   "source": [
    "#encontrar los divisores propios de un  umero n\n",
    "def divisores_propios_de_n(n):#\n",
    "    \"\"\"Devuelve una lista con los divisores propios de n.\"\"\"\n",
    "    divisores = []\n",
    "    for i in range(1, n):  # Recorre desde 1 hasta n-1\n",
    "        if n % i == 0:  # Si i es divisor de n\n",
    "            divisores.append(i)#se usa para agregar un elemento al final de una lista.\n",
    "            k = sum(divisores)#16\n",
    "            x = divisores_propios_k(k)\n",
    "            posible_perfecto = sum(x)#15\n",
    "            divisores_posible_perfecto = divisores_propios_posible_perfecto(posible_perfecto)\n",
    "            suma_divisiores_posible_perfecto = sum(divisores_posible_perfecto)#9\n",
    "    if suma_divisiores_posible_perfecto == posible_perfecto:\n",
    "        print(n, \"Es un numero ambicioso\")\n",
    "    else:\n",
    "        print(n, \"No es un numero ambicioso\")\n",
    "    #return suma_divisiores_pisoble_perfecto"
   ]
  },
  {
   "cell_type": "code",
   "execution_count": 63,
   "metadata": {},
   "outputs": [
    {
     "name": "stdout",
     "output_type": "stream",
     "text": [
      "143 Es un numero ambicioso\n"
     ]
    }
   ],
   "source": [
    "divisores_propios_de_n(143)"
   ]
  },
  {
   "cell_type": "code",
   "execution_count": null,
   "metadata": {},
   "outputs": [],
   "source": [
    "#encontrar los divisores propios de un  umero n\n",
    "def divisores_propios_de_n(n):#\n",
    "    \"\"\"Devuelve una lista con los divisores propios de n.\"\"\"\n",
    "    divisores = []\n",
    "    for i in range(1, n):  # Recorre desde 1 hasta n-1\n",
    "        if n % i == 0:  # Si i es divisor de n\n",
    "            divisores.append(i)#se usa para agregar un elemento al final de una lista.\n",
    "            k = sum(divisores)\n",
    "            x = divisores_propios_k(k)\n",
    "            posible_perfecto = sum(x)\n",
    "            divisores_posible_perfecto = divisores_propios_posible_perfecto(posible_perfecto)\n",
    "            suma_divisiores_posible_perfecto = sum(divisores_posible_perfecto)\n",
    "    if suma_divisiores_posible_perfecto == posible_perfecto:\n",
    "        print(n, \"Es un numero ambicioso\")\n",
    "    else:\n",
    "        print(n, \"No es un numero ambicioso\")\n",
    "    #return suma_divisiores_pisoble_perfecto"
   ]
  }
 ],
 "metadata": {
  "kernelspec": {
   "display_name": "Mipentorno",
   "language": "python",
   "name": "python3"
  },
  "language_info": {
   "codemirror_mode": {
    "name": "ipython",
    "version": 3
   },
   "file_extension": ".py",
   "mimetype": "text/x-python",
   "name": "python",
   "nbconvert_exporter": "python",
   "pygments_lexer": "ipython3",
   "version": "3.12.8"
  }
 },
 "nbformat": 4,
 "nbformat_minor": 2
}
