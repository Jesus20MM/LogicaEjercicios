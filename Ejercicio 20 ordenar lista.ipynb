{
 "cells": [
  {
   "cell_type": "code",
   "execution_count": null,
   "id": "60d21c88",
   "metadata": {},
   "outputs": [],
   "source": []
  },
  {
   "cell_type": "markdown",
   "id": "580a2d3d",
   "metadata": {},
   "source": [
    "# Ordenar una lista"
   ]
  },
  {
   "cell_type": "markdown",
   "id": "73875e81",
   "metadata": {},
   "source": [
    "Ordenar una lista de numerosde menor a mayor"
   ]
  },
  {
   "cell_type": "code",
   "execution_count": 6,
   "id": "7fe71b1c",
   "metadata": {},
   "outputs": [
    {
     "name": "stdout",
     "output_type": "stream",
     "text": [
      "[1, 4, 5, 7, 8, 9]\n"
     ]
    }
   ],
   "source": [
    "#forma metodos\n",
    "def ordenacion_metodo(lista):\n",
    "    lista.sort()  # ordena en el lugar\n",
    "    print(lista)  # imprime la lista ya ordenada\n",
    "\n",
    "ordenacion_metodo([1, 5, 8, 4, 7, 9])\n",
    "\n",
    "    "
   ]
  },
  {
   "cell_type": "code",
   "execution_count": null,
   "id": "8d89125d",
   "metadata": {},
   "outputs": [],
   "source": [
    "def ordenacion(lista):\n",
    "    # Algoritmo de burbuja\n",
    "    n = len(lista)#valor entero del tamaño de la lista\n",
    "    for i in range(n):#recorrer un rango del tamaño de la lista (iterar n veces)\n",
    "        for j in range(0, n - i - 1):\n",
    "            if lista[j] > lista[j + 1]:\n",
    "                # Intercambiar si el elemento actual es mayor que el siguiente\n",
    "                lista[j], lista[j + 1] = lista[j + 1], lista[j]\n",
    "    return lista\n",
    "\n",
    "# Ejemplo de uso:\n",
    "print(ordenacion([1, 5, 8, 4, 7, 9]))"
   ]
  },
  {
   "cell_type": "markdown",
   "id": "d4289965",
   "metadata": {},
   "source": [
    "el algoritmo ordena una lista de números comparando elementos adyacentes y haciendo que los mayores \"floten\" al final, como burbujas."
   ]
  },
  {
   "cell_type": "code",
   "execution_count": 7,
   "id": "5304298b",
   "metadata": {},
   "outputs": [
    {
     "name": "stdout",
     "output_type": "stream",
     "text": [
      "El tamaño de la lista es: 6\n"
     ]
    }
   ],
   "source": [
    "lista = [1, 5, 8, 4, 7, 9]\n",
    "length = len(lista)\n",
    "print(\"El tamaño de la lista es:\", length)"
   ]
  },
  {
   "cell_type": "markdown",
   "id": "03034acf",
   "metadata": {},
   "source": []
  }
 ],
 "metadata": {
  "kernelspec": {
   "display_name": "Mipentorno",
   "language": "python",
   "name": "python3"
  },
  "language_info": {
   "codemirror_mode": {
    "name": "ipython",
    "version": 3
   },
   "file_extension": ".py",
   "mimetype": "text/x-python",
   "name": "python",
   "nbconvert_exporter": "python",
   "pygments_lexer": "ipython3",
   "version": "3.12.8"
  }
 },
 "nbformat": 4,
 "nbformat_minor": 5
}
