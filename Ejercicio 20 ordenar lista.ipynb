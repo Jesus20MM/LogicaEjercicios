{
 "cells": [
  {
   "cell_type": "code",
   "execution_count": null,
   "id": "60d21c88",
   "metadata": {},
   "outputs": [],
   "source": []
  },
  {
   "cell_type": "markdown",
   "id": "580a2d3d",
   "metadata": {},
   "source": [
    "# Ordenar una lista"
   ]
  },
  {
   "cell_type": "markdown",
   "id": "73875e81",
   "metadata": {},
   "source": [
    "Ordenar una lista de numeros de menor a mayor"
   ]
  },
  {
   "cell_type": "code",
   "execution_count": null,
   "id": "7fe71b1c",
   "metadata": {},
   "outputs": [
    {
     "name": "stdout",
     "output_type": "stream",
     "text": [
      "[1, 4, 5, 7, 8, 9]\n"
     ]
    }
   ],
   "source": [
    "#con metodo\n",
    "def ordenacion_metodo(lista):\n",
    "    lista.sort()  # ordena en el lugar\n",
    "    print(lista)  # imprime la lista ya ordenada\n",
    "\n",
    "ordenacion_metodo([1, 5, 8, 4, 7, 9])\n",
    "\n",
    "    "
   ]
  },
  {
   "cell_type": "markdown",
   "id": "4af29ca6",
   "metadata": {},
   "source": [
    "Ordenacion por seleccion o burbuja ligera"
   ]
  },
  {
   "cell_type": "code",
   "execution_count": 6,
   "id": "646356b3",
   "metadata": {},
   "outputs": [
    {
     "name": "stdout",
     "output_type": "stream",
     "text": [
      "[1, 4, 5, 7, 8, 9]\n"
     ]
    }
   ],
   "source": [
    "def mi_ordenacion(lista):\n",
    "    \n",
    "    n = len(lista)#tamaño de la lista\n",
    "    for i in range(n):#recorrer el tamaño de la lista (posiciones, no valores)\n",
    "        for j in range(i + 1, n):  # comparamos con los elementos siguientes al actual i-ésimo\n",
    "            if lista[j] < lista[i]: #si el elemento j es menor que el i\n",
    "                # intercambio usando swap\n",
    "                lista[i], lista[j] = lista[j], lista[i]#se intercambian la posicion i por la posicion j\n",
    "    return lista\n",
    "\n",
    "\n",
    "print(mi_ordenacion([1, 5, 8, 4, 7, 9]))\n"
   ]
  },
  {
   "cell_type": "code",
   "execution_count": 7,
   "id": "af4ce570",
   "metadata": {},
   "outputs": [
    {
     "name": "stdout",
     "output_type": "stream",
     "text": [
      "[10, 40, 30, 20, 50]\n"
     ]
    }
   ],
   "source": [
    "# Lista de ejemplo\n",
    "lista = [10, 20, 30, 40, 50]\n",
    "\n",
    "i, j = 1, 3   # posiciones que quiero intercambiar (20 con 40)\n",
    "\n",
    "# swap (intercambio)\n",
    "lista[i], lista[j] = lista[j], lista[i]\n",
    "\n",
    "print(lista)\n"
   ]
  },
  {
   "cell_type": "markdown",
   "id": "f9cbf831",
   "metadata": {},
   "source": [
    "Algoritmo BubbleSort"
   ]
  },
  {
   "cell_type": "code",
   "execution_count": 1,
   "id": "8d89125d",
   "metadata": {},
   "outputs": [
    {
     "name": "stdout",
     "output_type": "stream",
     "text": [
      "[1, 4, 5, 7, 8, 9]\n"
     ]
    }
   ],
   "source": [
    "def ordenacion(lista):\n",
    "    # Algoritmo de burbuja\n",
    "    n = len(lista)#valor entero del tamaño de la lista\n",
    "    for i in range(n):#recorrer un rango del tamaño de la lista (iterar n veces)\n",
    "        for j in range(0, n - i - 1):\n",
    "            if lista[j] > lista[j + 1]:\n",
    "                # Intercambiar si el elemento actual es mayor que el siguiente\n",
    "                lista[j], lista[j + 1] = lista[j + 1], lista[j]\n",
    "    return lista\n",
    "\n",
    "# Ejemplo de uso:\n",
    "print(ordenacion([1, 5, 8, 4, 7, 9]))"
   ]
  },
  {
   "cell_type": "markdown",
   "id": "d4289965",
   "metadata": {},
   "source": [
    "el algoritmo ordena una lista de números comparando elementos adyacentes y haciendo que los mayores \"floten\" al final, como burbujas."
   ]
  },
  {
   "cell_type": "markdown",
   "id": "03034acf",
   "metadata": {},
   "source": [
    "🔎 Resumen:\n",
    "\n",
    "Burbuja clásica → solo avanza hacia adelante.\n",
    "\n",
    "Burbuja ligera → avanza hacia adelante y hacia atrás (más eficiente en algunos casos)."
   ]
  },
  {
   "cell_type": "code",
   "execution_count": null,
   "id": "fc83f253",
   "metadata": {},
   "outputs": [
    {
     "name": "stdout",
     "output_type": "stream",
     "text": [
      "[1, 4, 5, 7, 8, 9]\n"
     ]
    }
   ],
   "source": []
  }
 ],
 "metadata": {
  "kernelspec": {
   "display_name": "Mipentorno",
   "language": "python",
   "name": "python3"
  },
  "language_info": {
   "codemirror_mode": {
    "name": "ipython",
    "version": 3
   },
   "file_extension": ".py",
   "mimetype": "text/x-python",
   "name": "python",
   "nbconvert_exporter": "python",
   "pygments_lexer": "ipython3",
   "version": "3.12.8"
  }
 },
 "nbformat": 4,
 "nbformat_minor": 5
}
