{
 "cells": [
  {
   "cell_type": "code",
   "execution_count": 1,
   "id": "fcc979d5",
   "metadata": {},
   "outputs": [
    {
     "name": "stdout",
     "output_type": "stream",
     "text": [
      "\"Reconocer\" es un palíndromo.\n"
     ]
    }
   ],
   "source": [
    "def es_palindromo(palabra):\n",
    "    palabra = palabra.lower().replace(\" \", \"\")\n",
    "    return palabra == palabra[::-1]\n",
    "\n",
    "# Ejemplo de uso:\n",
    "palabra = \"Reconocer\"\n",
    "if es_palindromo(palabra):\n",
    "    print(f'\"{palabra}\" es un palíndromo.')\n",
    "else:\n",
    "    print(f'\"{palabra}\" no es un palíndromo.')"
   ]
  },
  {
   "cell_type": "code",
   "execution_count": null,
   "id": "d8589ead",
   "metadata": {},
   "outputs": [],
   "source": [
    "#version en la que el usuario ingresa siempre una cadena y se comprueba si es un palindromo o no\n",
    "def palindromo(cadena):\n",
    "    cadena = cadena.lower().replace(\" \", \"\")\n",
    "    invertida = \"\"#cadena vacia para usar tras finalizar el for\n",
    "    for caracter in cadena:#recorrer cada elemento de la variable \"cadena\"\n",
    "        invertida = caracter + invertida#cada recorrido se agrega una palabra o elemento de la variable \"cadena\" y se concatena con la anterior\n",
    "    \n",
    "    if invertida == cadena:\n",
    "        return print(cadena,\"Es un palíndromo\")\n",
    "    else:\n",
    "        return print(cadena, \"No es un palindromo\")\n",
    "    \n",
    "    \n",
    "    #return invertida"
   ]
  },
  {
   "cell_type": "code",
   "execution_count": 3,
   "id": "61077650",
   "metadata": {},
   "outputs": [
    {
     "name": "stdout",
     "output_type": "stream",
     "text": [
      "anitalavalatina Es un palíndromo\n"
     ]
    }
   ],
   "source": [
    "palindromo(\"Anita lava la tina\")"
   ]
  },
  {
   "cell_type": "code",
   "execution_count": null,
   "id": "00b110c0",
   "metadata": {},
   "outputs": [],
   "source": [
    "#version en la que se comprueba primero si efectivamente lo que el ususario ingresa es una cadena y luego se comprueba si es un palindromo o no\n",
    "def palindromo(cadena):\n",
    "    if not isinstance(cadena, str):\n",
    "        return print(\"Por favor, ingrese una cadena de texto válida.\")\n",
    "    \n",
    "    cadena = cadena.lower().replace(\" \", \"\")\n",
    "    invertida = \"\"#cadena vacia para usar tras finalizar el for\n",
    "    for caracter in cadena:#recorrer cada elemento de la variable \"cadena\"\n",
    "        invertida = caracter + invertida#cada recorrido se agrega una palabra o elemento de la variable \"cadena\" y se concatena con la anterior\n",
    "    \n",
    "    if invertida == cadena:\n",
    "        return print(cadena,\"Es un palíndromo\")\n",
    "    else:\n",
    "        return print(cadena, \"No es un palindromo\")"
   ]
  }
 ],
 "metadata": {
  "kernelspec": {
   "display_name": "Mipentorno",
   "language": "python",
   "name": "python3"
  },
  "language_info": {
   "codemirror_mode": {
    "name": "ipython",
    "version": 3
   },
   "file_extension": ".py",
   "mimetype": "text/x-python",
   "name": "python",
   "nbconvert_exporter": "python",
   "pygments_lexer": "ipython3",
   "version": "3.12.8"
  }
 },
 "nbformat": 4,
 "nbformat_minor": 5
}
