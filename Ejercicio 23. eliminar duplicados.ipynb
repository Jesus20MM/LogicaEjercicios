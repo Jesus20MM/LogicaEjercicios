{
 "cells": [
  {
   "cell_type": "code",
   "execution_count": null,
   "id": "2f432faa",
   "metadata": {},
   "outputs": [],
   "source": []
  },
  {
   "cell_type": "markdown",
   "id": "f5d9a1b6",
   "metadata": {},
   "source": [
    "# Eliminar duplicados\n",
    "Escribe un programa en Python que elimine los elementos duplicados de una lista, manteniendo el orden original de aparición."
   ]
  },
  {
   "cell_type": "code",
   "execution_count": null,
   "id": "6df925d7",
   "metadata": {},
   "outputs": [],
   "source": [
    "def eliminar_duplicados_mantener_orden(lista):\n",
    "    \"\"\"\n",
    "    Elimina elementos duplicados de una lista manteniendo el orden original.\n",
    "\n",
    "    Args:\n",
    "        lista: La lista de la cual se eliminarán los duplicados.\n",
    "\n",
    "    Returns:\n",
    "        Una nueva lista con los elementos únicos en el orden original.\n",
    "    \"\"\"\n",
    "    elementos_vistos = set()#conjunto vacio donde se almacenan los elementos vistos (recorridos)\n",
    "    lista_sin_duplicados = []#lista vacia donde se alamacenan los no duplicados (unicos)\n",
    "\n",
    "    for elemento in lista:#recorrer cada elemento de la lista ingresada\n",
    "        if elemento not in elementos_vistos:#si el elemento recorrdido no está en el conjunto de elementos vistos, entra la condicion\n",
    "            lista_sin_duplicados.append(elemento)\n",
    "            elementos_vistos.add(elemento)\n",
    "    return lista_sin_duplicados\n",
    "\n"
   ]
  },
  {
   "cell_type": "markdown",
   "id": "e4e08641",
   "metadata": {},
   "source": [
    "##### Cosas aprendidas:\n",
    "\n",
    "- not in se utiliza para verificar si un elemento no se encuentra dentro de una secuencia (como una lista, una cadena, una tupla, un conjunto o un diccionario).\n",
    "- append Se usa con listas y agrega un solo elemento al final de la lista\n",
    "- add Se usa con conjuntos y agrega un elemento al conjunto sólo si no existe ya"
   ]
  },
  {
   "cell_type": "code",
   "execution_count": 2,
   "id": "43cd5dc4",
   "metadata": {},
   "outputs": [
    {
     "name": "stdout",
     "output_type": "stream",
     "text": [
      "Lista original: [1, 2, 2, 3, 4, 4, 5, 1]\n",
      "Lista sin duplicados: [1, 2, 3, 4, 5]\n",
      "\n",
      "Lista original: ['manzana', 'pera', 'naranja', 'manzana', 'uva', 'pera']\n",
      "Lista sin duplicados: ['manzana', 'pera', 'naranja', 'uva']\n",
      "\n",
      "Lista original: [10, 20, 30, 10, 20]\n",
      "Lista sin duplicados: [10, 20, 30]\n",
      "\n",
      "Lista original: []\n",
      "Lista sin duplicados: []\n",
      "\n",
      "Lista original: [1, 1, 1, 1]\n",
      "Lista sin duplicados: [1]\n"
     ]
    }
   ],
   "source": [
    "# Ejemplos de uso:\n",
    "lista1 = [1, 2, 2, 3, 4, 4, 5, 1]\n",
    "lista2 = ['manzana', 'pera', 'naranja', 'manzana', 'uva', 'pera']\n",
    "lista3 = [10, 20, 30, 10, 20]\n",
    "lista4 = []\n",
    "lista5 = [1, 1, 1, 1]\n",
    "\n",
    "print(f\"Lista original: {lista1}\")\n",
    "print(f\"Lista sin duplicados: {eliminar_duplicados_mantener_orden(lista1)}\")\n",
    "\n",
    "print(f\"\\nLista original: {lista2}\")\n",
    "print(f\"Lista sin duplicados: {eliminar_duplicados_mantener_orden(lista2)}\")\n",
    "\n",
    "print(f\"\\nLista original: {lista3}\")\n",
    "print(f\"Lista sin duplicados: {eliminar_duplicados_mantener_orden(lista3)}\")\n",
    "\n",
    "print(f\"\\nLista original: {lista4}\")\n",
    "print(f\"Lista sin duplicados: {eliminar_duplicados_mantener_orden(lista4)}\")\n",
    "\n",
    "print(f\"\\nLista original: {lista5}\")\n",
    "print(f\"Lista sin duplicados: {eliminar_duplicados_mantener_orden(lista5)}\")"
   ]
  },
  {
   "cell_type": "code",
   "execution_count": null,
   "id": "e1483b64",
   "metadata": {},
   "outputs": [],
   "source": []
  }
 ],
 "metadata": {
  "kernelspec": {
   "display_name": "Mipentorno",
   "language": "python",
   "name": "python3"
  },
  "language_info": {
   "codemirror_mode": {
    "name": "ipython",
    "version": 3
   },
   "file_extension": ".py",
   "mimetype": "text/x-python",
   "name": "python",
   "nbconvert_exporter": "python",
   "pygments_lexer": "ipython3",
   "version": "3.12.8"
  }
 },
 "nbformat": 4,
 "nbformat_minor": 5
}
