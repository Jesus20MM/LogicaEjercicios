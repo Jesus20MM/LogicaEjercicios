{
 "cells": [
  {
   "cell_type": "markdown",
   "id": "8ee11272",
   "metadata": {},
   "source": [
    "# Frecuencia de palabras"
   ]
  },
  {
   "cell_type": "markdown",
   "id": "26e0f82a",
   "metadata": {},
   "source": [
    " Escribe un programa que analice un texto dado y determine la frecuencia de aparición de cada palabra única."
   ]
  },
  {
   "cell_type": "code",
   "execution_count": null,
   "id": "497ce94c",
   "metadata": {},
   "outputs": [],
   "source": [
    "def frecuencia(palabra):\n",
    "    # Define una función llamada frecuencia que recibe un parámetro 'palabra'.\n",
    "\n",
    "    frecuencia_letras = {}\n",
    "    # Crea un diccionario vacío para guardar la frecuencia de cada letra.\n",
    "\n",
    "    for letra in palabra:\n",
    "        # Itera sobre cada letra en la cadena 'palabra'.\n",
    "\n",
    "        if letra == \" \":\n",
    "            # Si la letra es un espacio, lo ignora y continúa con la siguiente.\n",
    "            continue\n",
    "\n",
    "        if letra in frecuencia_letras:\n",
    "            # Si la letra ya está en el diccionario, aumenta su contador en 1.\n",
    "            frecuencia_letras[letra] += 1\n",
    "        \n",
    "        else:\n",
    "            # Si la letra no está en el diccionario, la agrega con valor 1.\n",
    "            frecuencia_letras[letra] = 1\n",
    "\n",
    "    return frecuencia_letras\n",
    "    # Devuelve el diccionario con la frecuencia de cada letra."
   ]
  },
  {
   "cell_type": "code",
   "execution_count": 5,
   "id": "628e08bc",
   "metadata": {},
   "outputs": [
    {
     "data": {
      "text/plain": [
       "{'h': 2, 'o': 2, 'l': 2, 'a': 5}"
      ]
     },
     "execution_count": 5,
     "metadata": {},
     "output_type": "execute_result"
    }
   ],
   "source": [
    "frecuencia(\"holaaaa hola\")"
   ]
  },
  {
   "cell_type": "code",
   "execution_count": null,
   "id": "01e4f633",
   "metadata": {},
   "outputs": [],
   "source": []
  }
 ],
 "metadata": {
  "kernelspec": {
   "display_name": "Mipentorno",
   "language": "python",
   "name": "python3"
  },
  "language_info": {
   "codemirror_mode": {
    "name": "ipython",
    "version": 3
   },
   "file_extension": ".py",
   "mimetype": "text/x-python",
   "name": "python",
   "nbconvert_exporter": "python",
   "pygments_lexer": "ipython3",
   "version": "3.12.8"
  }
 },
 "nbformat": 4,
 "nbformat_minor": 5
}
