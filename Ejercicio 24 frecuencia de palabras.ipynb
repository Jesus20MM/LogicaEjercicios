{
 "cells": [
  {
   "cell_type": "markdown",
   "id": "8ee11272",
   "metadata": {},
   "source": [
    "# Frecuencia de palabras"
   ]
  },
  {
   "cell_type": "markdown",
   "id": "26e0f82a",
   "metadata": {},
   "source": [
    " Escribe un programa que analice un texto dado y determine la frecuencia de aparición de cada palabra única."
   ]
  },
  {
   "cell_type": "code",
   "execution_count": null,
   "id": "497ce94c",
   "metadata": {},
   "outputs": [],
   "source": [
    "def frecuencia(palabra):\n",
    "    \n",
    "    "
   ]
  },
  {
   "cell_type": "code",
   "execution_count": null,
   "id": "af412c0a",
   "metadata": {},
   "outputs": [],
   "source": []
  }
 ],
 "metadata": {
  "kernelspec": {
   "display_name": "Mipentorno",
   "language": "python",
   "name": "python3"
  },
  "language_info": {
   "name": "python",
   "version": "3.12.8"
  }
 },
 "nbformat": 4,
 "nbformat_minor": 5
}
