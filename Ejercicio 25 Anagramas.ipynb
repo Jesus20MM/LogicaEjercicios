{
 "cells": [
  {
   "cell_type": "markdown",
   "id": "005b6016",
   "metadata": {},
   "source": [
    "# Anagramas\n",
    "\n",
    "Verifica si dos palabras son anagramas."
   ]
  },
  {
   "cell_type": "markdown",
   "id": "72734eec",
   "metadata": {},
   "source": []
  }
 ],
 "metadata": {
  "language_info": {
   "name": "python"
  }
 },
 "nbformat": 4,
 "nbformat_minor": 5
}
