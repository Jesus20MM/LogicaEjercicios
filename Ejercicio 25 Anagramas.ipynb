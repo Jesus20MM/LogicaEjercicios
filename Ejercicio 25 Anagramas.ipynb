{
 "cells": [
  {
   "cell_type": "markdown",
   "id": "005b6016",
   "metadata": {},
   "source": [
    "# Anagramas\n",
    "\n",
    "Verifica si dos palabras son anagramas."
   ]
  },
  {
   "cell_type": "code",
   "execution_count": null,
   "id": "ed9bc5b8",
   "metadata": {},
   "outputs": [],
   "source": [
    "def anagrama(palabra1, palabra2):\n",
    "    \n",
    "    l = []\n",
    "    k =[]\n",
    "    \n",
    "    for i in palabra1:\n",
    "        for j in palabra2:\n",
    "            if i==j:\n",
    "                l.append(i)#add agrega conjuntos\n",
    "     \n",
    "    for i in palabra2:\n",
    "        for j in palabra1:\n",
    "            if i==j:\n",
    "                k.append(i)#add agrega conjuntos\n",
    "     \n",
    "     \n",
    "    if len(palabra1) == len(palabra2) and set(l) == set(palabra1) and set(k) == set(palabra2):\n",
    "        return print(f'{palabra1} y {palabra2} son anagramas')\n",
    "    else:\n",
    "        return print(f'{palabra1} y {palabra2} no son anagramas')\n",
    "         \n",
    "                \n",
    "#yaresolví el ejercicio creo, pero me falta capturar cuando las dos palabras son exactamente las mismas\n",
    "    "
   ]
  },
  {
   "cell_type": "code",
   "execution_count": 1,
   "id": "d6a9dda0",
   "metadata": {},
   "outputs": [
    {
     "data": {
      "text/plain": [
       "False"
      ]
     },
     "execution_count": 1,
     "metadata": {},
     "output_type": "execute_result"
    }
   ],
   "source": [
    "a = (\"p\",\"a\",\"n\")\n",
    "b = (\"a\",\"n\",\"p\")\n",
    "\n",
    "a == b"
   ]
  },
  {
   "cell_type": "code",
   "execution_count": 3,
   "id": "ff1c94c9",
   "metadata": {},
   "outputs": [
    {
     "name": "stdout",
     "output_type": "stream",
     "text": [
      "perro y porre son anagramas\n"
     ]
    }
   ],
   "source": [
    "anagrama(\"perro\", \"porre\")"
   ]
  },
  {
   "cell_type": "code",
   "execution_count": 15,
   "id": "9b5e7a19",
   "metadata": {},
   "outputs": [
    {
     "name": "stdout",
     "output_type": "stream",
     "text": [
      "amor y roma son anagramas\n",
      "None\n",
      "perro y porre son anagramas\n",
      "None\n",
      "sal y las son anagramas\n",
      "None\n",
      "niño y ñoni son anagramas\n",
      "None\n",
      "marte y tamer son anagramas\n",
      "None\n",
      "lento y notel son anagramas\n",
      "None\n",
      "sapo y posa son anagramas\n",
      "None\n"
     ]
    }
   ],
   "source": [
    "# Casos que sí son anagramas\n",
    "print(anagrama(\"amor\", \"roma\"))       # True\n",
    "print(anagrama(\"perro\", \"porre\"))     # True\n",
    "print(anagrama(\"sal\", \"las\"))         # True\n",
    "print(anagrama(\"niño\", \"ñoni\"))       # True (si no normalizas ñ, puede fallar)\n",
    "print(anagrama(\"marte\", \"tamer\"))     # True\n",
    "print(anagrama(\"lento\", \"notel\"))     # True\n",
    "print(anagrama(\"sapo\", \"posa\"))       # True (evitamos tilde para evitar errores)"
   ]
  },
  {
   "cell_type": "code",
   "execution_count": 16,
   "id": "ffcfff88",
   "metadata": {},
   "outputs": [
    {
     "name": "stdout",
     "output_type": "stream",
     "text": [
      "amor y rama no son anagramas\n",
      "None\n",
      "gato y perro no son anagramas\n",
      "None\n",
      "luz y sol no son anagramas\n",
      "None\n",
      "cielo y océano no son anagramas\n",
      "None\n",
      "rojo y ojo no son anagramas\n",
      "None\n",
      "pan y napa no son anagramas\n",
      "None\n",
      "carro y raro no son anagramas\n",
      "None\n"
     ]
    }
   ],
   "source": [
    "# Casos que no son anagramas\n",
    "print(anagrama(\"amor\", \"rama\"))       # False\n",
    "print(anagrama(\"gato\", \"perro\"))      # False\n",
    "print(anagrama(\"luz\", \"sol\"))         # False\n",
    "print(anagrama(\"cielo\", \"océano\"))    # False\n",
    "print(anagrama(\"rojo\", \"ojo\"))        # False\n",
    "print(anagrama(\"pan\", \"napa\"))        # False (tamaño diferente)\n",
    "print(anagrama(\"carro\", \"raro\"))      # False"
   ]
  },
  {
   "cell_type": "code",
   "execution_count": 12,
   "id": "4b898d1c",
   "metadata": {},
   "outputs": [
    {
     "name": "stdout",
     "output_type": "stream",
     "text": [
      "amor y amor son anagramas\n",
      "None\n",
      "gato y perro no son anagramas\n",
      "None\n",
      "pero y porre no son anagramas\n",
      "None\n",
      "porre y pero no son anagramas\n",
      "None\n",
      "napa y pan no son anagramas\n",
      "None\n"
     ]
    }
   ],
   "source": [
    "print(anagrama(\"amor\", \"amor\"))\n",
    "print(anagrama(\"gato\", \"perro\"))\n",
    "print(anagrama(\"pero\", \"porre\"))\n",
    "print(anagrama(\"porre\", \"pero\"))\n",
    "print(anagrama(\"napa\", \"pan\")) "
   ]
  },
  {
   "cell_type": "code",
   "execution_count": null,
   "id": "5f732f4b",
   "metadata": {},
   "outputs": [],
   "source": []
  }
 ],
 "metadata": {
  "kernelspec": {
   "display_name": "Mipentorno",
   "language": "python",
   "name": "python3"
  },
  "language_info": {
   "codemirror_mode": {
    "name": "ipython",
    "version": 3
   },
   "file_extension": ".py",
   "mimetype": "text/x-python",
   "name": "python",
   "nbconvert_exporter": "python",
   "pygments_lexer": "ipython3",
   "version": "3.12.8"
  }
 },
 "nbformat": 4,
 "nbformat_minor": 5
}
