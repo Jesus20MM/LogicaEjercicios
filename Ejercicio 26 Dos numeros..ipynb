{
 "cells": [
  {
   "cell_type": "markdown",
   "id": "9ed073e4",
   "metadata": {},
   "source": [
    "# Dos sumas – Encuentra dos elementos que sumen un objetivo."
   ]
  },
  {
   "cell_type": "code",
   "execution_count": null,
   "id": "16518d16",
   "metadata": {},
   "outputs": [],
   "source": [
    "def dos_numeros(numero_objetivo):\n",
    "    \n",
    "    list1 = list(range(0,numero_objetivo,1))\n",
    "    list2 = list(range(0,numero_objetivo,1))\n",
    "\n",
    "\n",
    "  \n",
    "\n",
    "    for i in list1:\n",
    "        for j in list2:\n",
    "                \n",
    "            if sum((i,j)) == numero_objetivo:\n",
    "                print(f'Los elementos {(i, j)} suman a {numero_objetivo}')\n",
    "            \n",
    "            "
   ]
  },
  {
   "cell_type": "code",
   "execution_count": 24,
   "id": "501e3ffa",
   "metadata": {},
   "outputs": [
    {
     "name": "stdout",
     "output_type": "stream",
     "text": [
      "Los elementos (1, 9) suman a 10\n",
      "Los elementos (2, 8) suman a 10\n",
      "Los elementos (3, 7) suman a 10\n",
      "Los elementos (4, 6) suman a 10\n",
      "Los elementos (5, 5) suman a 10\n",
      "Los elementos (6, 4) suman a 10\n",
      "Los elementos (7, 3) suman a 10\n",
      "Los elementos (8, 2) suman a 10\n",
      "Los elementos (9, 1) suman a 10\n"
     ]
    }
   ],
   "source": [
    "dos_numeros(10)"
   ]
  },
  {
   "cell_type": "markdown",
   "id": "12466c86",
   "metadata": {},
   "source": [
    "#### Programa correcto"
   ]
  },
  {
   "cell_type": "code",
   "execution_count": 4,
   "id": "e599defd",
   "metadata": {},
   "outputs": [],
   "source": [
    "def dos_numeros_final(numero_objetivo):\n",
    "    list1 = list(range(0, numero_objetivo))#por defecto los pasos los da de uno en uno, no hace falta poner (range(0, numero_objetivo,1))\n",
    "    list2 = list(range(0, numero_objetivo))\n",
    "\n",
    "    for i in list1:\n",
    "        for j in list2:\n",
    "            if j < i:\n",
    "                continue  # evita repeticiones como (3,7) y (7,3)\n",
    "            if i + j == numero_objetivo:\n",
    "                print(f'Los elementos {(i, j)} suman a {numero_objetivo}')\n"
   ]
  },
  {
   "cell_type": "markdown",
   "id": "056aa6f6",
   "metadata": {},
   "source": [
    "En este caso usar if o elif da el mismo resultado.\n",
    "\n",
    "Pero si no hubiera un continue, entonces sí habría diferencia."
   ]
  },
  {
   "cell_type": "code",
   "execution_count": 5,
   "id": "5377743b",
   "metadata": {},
   "outputs": [
    {
     "name": "stdout",
     "output_type": "stream",
     "text": [
      "Los elementos (1, 49) suman a 50\n",
      "Los elementos (2, 48) suman a 50\n",
      "Los elementos (3, 47) suman a 50\n",
      "Los elementos (4, 46) suman a 50\n",
      "Los elementos (5, 45) suman a 50\n",
      "Los elementos (6, 44) suman a 50\n",
      "Los elementos (7, 43) suman a 50\n",
      "Los elementos (8, 42) suman a 50\n",
      "Los elementos (9, 41) suman a 50\n",
      "Los elementos (10, 40) suman a 50\n",
      "Los elementos (11, 39) suman a 50\n",
      "Los elementos (12, 38) suman a 50\n",
      "Los elementos (13, 37) suman a 50\n",
      "Los elementos (14, 36) suman a 50\n",
      "Los elementos (15, 35) suman a 50\n",
      "Los elementos (16, 34) suman a 50\n",
      "Los elementos (17, 33) suman a 50\n",
      "Los elementos (18, 32) suman a 50\n",
      "Los elementos (19, 31) suman a 50\n",
      "Los elementos (20, 30) suman a 50\n",
      "Los elementos (21, 29) suman a 50\n",
      "Los elementos (22, 28) suman a 50\n",
      "Los elementos (23, 27) suman a 50\n",
      "Los elementos (24, 26) suman a 50\n",
      "Los elementos (25, 25) suman a 50\n"
     ]
    }
   ],
   "source": [
    "dos_numeros_final(50)"
   ]
  },
  {
   "cell_type": "code",
   "execution_count": null,
   "id": "9cd903ed",
   "metadata": {},
   "outputs": [],
   "source": []
  }
 ],
 "metadata": {
  "kernelspec": {
   "display_name": "Mipentorno",
   "language": "python",
   "name": "python3"
  },
  "language_info": {
   "codemirror_mode": {
    "name": "ipython",
    "version": 3
   },
   "file_extension": ".py",
   "mimetype": "text/x-python",
   "name": "python",
   "nbconvert_exporter": "python",
   "pygments_lexer": "ipython3",
   "version": "3.12.8"
  }
 },
 "nbformat": 4,
 "nbformat_minor": 5
}
