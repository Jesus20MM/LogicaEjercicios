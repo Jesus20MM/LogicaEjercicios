{
 "cells": [
  {
   "cell_type": "markdown",
   "id": "babb51c2",
   "metadata": {},
   "source": [
    "Encontrar el numero mas grande de una lista"
   ]
  },
  {
   "cell_type": "markdown",
   "id": "a27ba60c",
   "metadata": {},
   "source": [
    "ordenar la lista de menor a mayor y extraer el ultimo elemento\n"
   ]
  },
  {
   "cell_type": "code",
   "execution_count": 1,
   "id": "d7280574",
   "metadata": {},
   "outputs": [],
   "source": [
    "def numero_grande(lista):\n",
    "    \n",
    "    lista.sort()\n",
    "    \n",
    "    print(\"El numero más grande de su lista es: \", lista[-1])"
   ]
  },
  {
   "cell_type": "code",
   "execution_count": 2,
   "id": "f3155b08",
   "metadata": {},
   "outputs": [
    {
     "name": "stdout",
     "output_type": "stream",
     "text": [
      "El numero más grande de su lista es:  100\n"
     ]
    }
   ],
   "source": [
    "numero_grande([1,100,-4,0,7,6,4,10])"
   ]
  },
  {
   "cell_type": "code",
   "execution_count": null,
   "id": "d699ecfb",
   "metadata": {},
   "outputs": [],
   "source": []
  }
 ],
 "metadata": {
  "kernelspec": {
   "display_name": "Mipentorno",
   "language": "python",
   "name": "python3"
  },
  "language_info": {
   "codemirror_mode": {
    "name": "ipython",
    "version": 3
   },
   "file_extension": ".py",
   "mimetype": "text/x-python",
   "name": "python",
   "nbconvert_exporter": "python",
   "pygments_lexer": "ipython3",
   "version": "3.12.8"
  }
 },
 "nbformat": 4,
 "nbformat_minor": 5
}
