{
 "cells": [
  {
   "cell_type": "markdown",
   "id": "babb51c2",
   "metadata": {},
   "source": [
    "Encontrar el numero mas grande de una lista"
   ]
  },
  {
   "cell_type": "markdown",
   "id": "a27ba60c",
   "metadata": {},
   "source": [
    "ordenar la lista de menor a mayor y extraer el ultimo elemento\n"
   ]
  },
  {
   "cell_type": "code",
   "execution_count": null,
   "id": "d7280574",
   "metadata": {},
   "outputs": [],
   "source": [
    "def numero_grande():\n",
    "    "
   ]
  },
  {
   "cell_type": "code",
   "execution_count": null,
   "id": "f3155b08",
   "metadata": {},
   "outputs": [],
   "source": []
  }
 ],
 "metadata": {
  "kernelspec": {
   "display_name": "Mipentorno",
   "language": "python",
   "name": "python3"
  },
  "language_info": {
   "name": "python",
   "version": "3.12.8"
  }
 },
 "nbformat": 4,
 "nbformat_minor": 5
}
