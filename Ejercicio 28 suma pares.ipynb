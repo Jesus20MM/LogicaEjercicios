{
 "cells": [
  {
   "cell_type": "markdown",
   "id": "fc188311",
   "metadata": {},
   "source": [
    "Encontrar la suma de numeros pares de una lista de numeros"
   ]
  },
  {
   "cell_type": "markdown",
   "id": "e7cd010c",
   "metadata": {},
   "source": []
  },
  {
   "cell_type": "code",
   "execution_count": 9,
   "id": "621f7f60",
   "metadata": {},
   "outputs": [
    {
     "data": {
      "text/plain": [
       "42"
      ]
     },
     "execution_count": 9,
     "metadata": {},
     "output_type": "execute_result"
    }
   ],
   "source": [
    "def suma_pares(lista):\n",
    "    \n",
    "    lista_pares = []\n",
    "    for i in lista:\n",
    "        if i % 2 == 0:\n",
    "            lista_pares.append(i)\n",
    "        \n",
    "    suma = 0\n",
    "    for j in lista_pares:#todo esto equivale a sum(lista_pares)\n",
    "        suma += j\n",
    "        \n",
    "    \n",
    "    return suma\n",
    "\n",
    "\n",
    "suma_pares([1,2,3,4,5,6,7,8,9,10,11,12])"
   ]
  },
  {
   "cell_type": "markdown",
   "id": "7026fd92",
   "metadata": {},
   "source": [
    "ahora hallaremos la suma de pares mas la suma de de aquellos impares con una frecuencia par"
   ]
  },
  {
   "cell_type": "code",
   "execution_count": null,
   "id": "42c6e5f9",
   "metadata": {},
   "outputs": [],
   "source": []
  }
 ],
 "metadata": {
  "kernelspec": {
   "display_name": "Mipentorno",
   "language": "python",
   "name": "python3"
  },
  "language_info": {
   "codemirror_mode": {
    "name": "ipython",
    "version": 3
   },
   "file_extension": ".py",
   "mimetype": "text/x-python",
   "name": "python",
   "nbconvert_exporter": "python",
   "pygments_lexer": "ipython3",
   "version": "3.12.8"
  }
 },
 "nbformat": 4,
 "nbformat_minor": 5
}
