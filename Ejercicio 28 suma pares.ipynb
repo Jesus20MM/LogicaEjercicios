{
 "cells": [
  {
   "cell_type": "markdown",
   "id": "fc188311",
   "metadata": {},
   "source": [
    "Encontrar la suma de numeros pares de una lista de numeros"
   ]
  },
  {
   "cell_type": "markdown",
   "id": "e7cd010c",
   "metadata": {},
   "source": []
  }
 ],
 "metadata": {
  "language_info": {
   "name": "python"
  }
 },
 "nbformat": 4,
 "nbformat_minor": 5
}
