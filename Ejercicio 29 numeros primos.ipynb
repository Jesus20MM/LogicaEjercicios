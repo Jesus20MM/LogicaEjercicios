{
 "cells": [
  {
   "cell_type": "code",
   "execution_count": null,
   "id": "9276d6d5",
   "metadata": {},
   "outputs": [],
   "source": []
  },
  {
   "cell_type": "markdown",
   "id": "4c80a594",
   "metadata": {},
   "source": [
    "determinar si un numero es primo\n",
    "\n",
    "Calcular los primeros N numeros primos"
   ]
  },
  {
   "cell_type": "code",
   "execution_count": null,
   "id": "220e084e",
   "metadata": {},
   "outputs": [],
   "source": [
    "def nprimos(n):\n",
    "    \n",
    "    primos_en_lista = []\n",
    "    for i in range(1,n):\n",
    "        if i % n == 0:\n",
    "           "
   ]
  }
 ],
 "metadata": {
  "language_info": {
   "name": "python"
  }
 },
 "nbformat": 4,
 "nbformat_minor": 5
}
