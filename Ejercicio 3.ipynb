{
 "cells": [
  {
   "cell_type": "markdown",
   "metadata": {},
   "source": [
    "Un numero curioso es un “n” tal que n^2 tiene al propio \n",
    "“n” como última cifra. \n",
    " \n",
    "25^2 = 625 \n",
    "Halla todos los números curiosos en un intervalo "
   ]
  },
  {
   "cell_type": "code",
   "execution_count": null,
   "metadata": {},
   "outputs": [],
   "source": [
    "#este solo funciona para n de una cifra\n",
    "def es_curioso(n):\n",
    "    x = n**2\n",
    "    x = str(x)\n",
    "    lista = list(x)\n",
    "    ultimo_elemento = lista.pop()\n",
    "    ultimo_elemento = int(ultimo_elemento)\n",
    "    if ultimo_elemento== n:\n",
    "        print(f'el numero {n} es un numero cursioso')\n",
    "    else:\n",
    "        print(f'el numero {n} no es numero cursioso')\n"
   ]
  },
  {
   "cell_type": "code",
   "execution_count": 21,
   "metadata": {},
   "outputs": [
    {
     "name": "stdout",
     "output_type": "stream",
     "text": [
      "el numero 25 no es numero cursioso\n"
     ]
    }
   ],
   "source": [
    "es_curioso(25)"
   ]
  },
  {
   "cell_type": "code",
   "execution_count": null,
   "metadata": {},
   "outputs": [],
   "source": []
  },
  {
   "cell_type": "code",
   "execution_count": null,
   "metadata": {},
   "outputs": [],
   "source": []
  },
  {
   "cell_type": "code",
   "execution_count": null,
   "metadata": {},
   "outputs": [],
   "source": [
    "\n",
    "def es_curioso(n):\n",
    "    num_cifras_n = int(len(str(n)))#esta variable es de tipo int, da el numero de cifras de n\n",
    "    x = str(n**2)#elevar al cuadrado n y convertirlo a string\n",
    "    \n",
    "    lista = list(x)#convertir a lista los elementos del cuadrado de n\n",
    "    \n",
    "    ultimos_elementos_de_la_lista_del_cuadrado_de_n = lista[-num_cifras_n:]#lista con los ultimos elementos del cuadrado de n; extrae a partir de la cantidad num_cifras_n en adelante\n",
    "    #el numero de cifras que extrae al final de la lista es el numero de cifras de n num_cifras_n\n",
    "    \n",
    "    \n",
    "    # Convierte los elementos de la lista ultimos_elementos_de_la_lista_del_cuadrado_de_n en string y los une y eso lo covierte en entero\n",
    "    numeros_al_final = int(''.join(map(str, ultimos_elementos_de_la_lista_del_cuadrado_de_n)))\n",
    "    \n",
    "    if numeros_al_final == n:\n",
    "        return \"es un número curioso\"\n",
    "    else:\n",
    "        return \"no es un número curioso\"\n",
    "        \n",
    "    \n",
    "  \n",
    "  \n"
   ]
  },
  {
   "cell_type": "code",
   "execution_count": null,
   "metadata": {},
   "outputs": [
    {
     "name": "stdout",
     "output_type": "stream",
     "text": [
      "['2', '5']\n"
     ]
    }
   ],
   "source": [
    "#esto es lo que hace el metodo list()\n",
    "n = 5\n",
    "x = str(n**2)#elevar al cuadrado n y convertirlo a string\n",
    "cuadrados = []\n",
    "for i in x:\n",
    "    cuadrados.append(i)\n",
    "print(cuadrados)"
   ]
  },
  {
   "cell_type": "code",
   "execution_count": null,
   "metadata": {},
   "outputs": [],
   "source": []
  },
  {
   "cell_type": "code",
   "execution_count": 54,
   "metadata": {},
   "outputs": [
    {
     "name": "stdout",
     "output_type": "stream",
     "text": [
      "El numero  1 es un número curioso\n",
      "El numero  2 no es un número curioso\n",
      "El numero  3 no es un número curioso\n",
      "El numero  4 no es un número curioso\n",
      "El numero  5 es un número curioso\n",
      "El numero  6 es un número curioso\n",
      "El numero  7 no es un número curioso\n",
      "El numero  8 no es un número curioso\n",
      "El numero  9 no es un número curioso\n",
      "El numero  10 no es un número curioso\n",
      "El numero  11 no es un número curioso\n",
      "El numero  12 no es un número curioso\n",
      "El numero  13 no es un número curioso\n",
      "El numero  14 no es un número curioso\n",
      "El numero  15 no es un número curioso\n",
      "El numero  16 no es un número curioso\n",
      "El numero  17 no es un número curioso\n",
      "El numero  18 no es un número curioso\n",
      "El numero  19 no es un número curioso\n",
      "El numero  20 no es un número curioso\n",
      "El numero  21 no es un número curioso\n",
      "El numero  22 no es un número curioso\n",
      "El numero  23 no es un número curioso\n",
      "El numero  24 no es un número curioso\n",
      "El numero  25 es un número curioso\n",
      "El numero  26 no es un número curioso\n",
      "El numero  27 no es un número curioso\n",
      "El numero  28 no es un número curioso\n",
      "El numero  29 no es un número curioso\n",
      "El numero  30 no es un número curioso\n",
      "El numero  31 no es un número curioso\n",
      "El numero  32 no es un número curioso\n",
      "El numero  33 no es un número curioso\n",
      "El numero  34 no es un número curioso\n",
      "El numero  35 no es un número curioso\n",
      "El numero  36 no es un número curioso\n",
      "El numero  37 no es un número curioso\n",
      "El numero  38 no es un número curioso\n",
      "El numero  39 no es un número curioso\n",
      "El numero  40 no es un número curioso\n",
      "El numero  41 no es un número curioso\n",
      "El numero  42 no es un número curioso\n",
      "El numero  43 no es un número curioso\n",
      "El numero  44 no es un número curioso\n",
      "El numero  45 no es un número curioso\n",
      "El numero  46 no es un número curioso\n",
      "El numero  47 no es un número curioso\n",
      "El numero  48 no es un número curioso\n",
      "El numero  49 no es un número curioso\n"
     ]
    }
   ],
   "source": [
    "#probamos en un intervalo\n",
    "lista_probar = range(1, 50)\n",
    "for i in lista_probar:\n",
    "    print(\"El numero \", i, es_curioso(i))"
   ]
  },
  {
   "cell_type": "code",
   "execution_count": null,
   "metadata": {},
   "outputs": [],
   "source": []
  }
 ],
 "metadata": {
  "kernelspec": {
   "display_name": "Mipentorno",
   "language": "python",
   "name": "python3"
  },
  "language_info": {
   "codemirror_mode": {
    "name": "ipython",
    "version": 3
   },
   "file_extension": ".py",
   "mimetype": "text/x-python",
   "name": "python",
   "nbconvert_exporter": "python",
   "pygments_lexer": "ipython3",
   "version": "3.12.8"
  }
 },
 "nbformat": 4,
 "nbformat_minor": 2
}
