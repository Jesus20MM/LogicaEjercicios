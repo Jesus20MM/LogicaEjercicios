{
 "cells": [
  {
   "cell_type": "markdown",
   "id": "c20222c7",
   "metadata": {},
   "source": [
    "# Escribe una funcion que sume los digitos de un numero entero."
   ]
  },
  {
   "cell_type": "code",
   "execution_count": 1,
   "id": "fcd5dcdb",
   "metadata": {},
   "outputs": [],
   "source": [
    "def suma_digitos(n):\n",
    "    \n",
    "    print(\"El número ingresado es\", n)\n",
    "    n_lista = list(map(int, str(n)))#convierte n a string, luego convierte cada elemento en entero y todo eso en una lista \n",
    "    print(\"La lista correspondiente es\", n_lista)\n",
    "    print(\"La suma de los elementos de\", n, \"es\", sum(n_lista))"
   ]
  },
  {
   "cell_type": "code",
   "execution_count": 2,
   "id": "9bc59051",
   "metadata": {},
   "outputs": [
    {
     "name": "stdout",
     "output_type": "stream",
     "text": [
      "El número ingresado es 5555\n",
      "La lista correspondiente es [5, 5, 5, 5]\n",
      "La suma de los elementos de 5555 es 20\n"
     ]
    }
   ],
   "source": [
    "suma_digitos(5555)"
   ]
  },
  {
   "cell_type": "code",
   "execution_count": null,
   "id": "3e16342d",
   "metadata": {},
   "outputs": [],
   "source": []
  },
  {
   "cell_type": "code",
   "execution_count": null,
   "id": "ec4e7cbd",
   "metadata": {},
   "outputs": [],
   "source": []
  },
  {
   "cell_type": "code",
   "execution_count": null,
   "id": "bac793fa",
   "metadata": {},
   "outputs": [],
   "source": []
  },
  {
   "cell_type": "code",
   "execution_count": null,
   "id": "d19f75c8",
   "metadata": {},
   "outputs": [],
   "source": []
  }
 ],
 "metadata": {
  "kernelspec": {
   "display_name": "Mipentorno",
   "language": "python",
   "name": "python3"
  },
  "language_info": {
   "codemirror_mode": {
    "name": "ipython",
    "version": 3
   },
   "file_extension": ".py",
   "mimetype": "text/x-python",
   "name": "python",
   "nbconvert_exporter": "python",
   "pygments_lexer": "ipython3",
   "version": "3.12.8"
  }
 },
 "nbformat": 4,
 "nbformat_minor": 5
}
