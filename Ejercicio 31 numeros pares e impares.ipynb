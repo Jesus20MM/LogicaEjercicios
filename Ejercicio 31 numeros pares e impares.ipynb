{
 "cells": [
  {
   "cell_type": "markdown",
   "id": "ce06e4e1",
   "metadata": {},
   "source": [
    "# Cuenta cuantos numeros pares e impares hay en una lista."
   ]
  },
  {
   "cell_type": "markdown",
   "id": "20023de8",
   "metadata": {},
   "source": []
  },
  {
   "cell_type": "code",
   "execution_count": 16,
   "id": "b01a40ea",
   "metadata": {},
   "outputs": [],
   "source": [
    "def contar(n):\n",
    "    \n",
    "    contador_par = 0\n",
    "    contador_impar = 0\n",
    "    \n",
    "    n_lista = list(map(int, str(n)))\n",
    "    for i in n_lista:\n",
    "        if i % 2 == 0:\n",
    "            contador_par += 1\n",
    "        else:\n",
    "            contador_impar += 1\n",
    "   \n",
    "            \n",
    "    \n",
    "    return print(\"El número de números pares es: \", contador_par, \"\\n Y el de impares es:\", contador_impar )"
   ]
  },
  {
   "cell_type": "code",
   "execution_count": 19,
   "id": "dbf41833",
   "metadata": {},
   "outputs": [
    {
     "name": "stdout",
     "output_type": "stream",
     "text": [
      "El número de números pares es:  1 \n",
      " Y el de impares es: 6\n"
     ]
    }
   ],
   "source": [
    "contar(2999999)"
   ]
  },
  {
   "cell_type": "code",
   "execution_count": null,
   "id": "456521e8",
   "metadata": {},
   "outputs": [],
   "source": []
  }
 ],
 "metadata": {
  "kernelspec": {
   "display_name": "Mipentorno",
   "language": "python",
   "name": "python3"
  },
  "language_info": {
   "codemirror_mode": {
    "name": "ipython",
    "version": 3
   },
   "file_extension": ".py",
   "mimetype": "text/x-python",
   "name": "python",
   "nbconvert_exporter": "python",
   "pygments_lexer": "ipython3",
   "version": "3.12.8"
  }
 },
 "nbformat": 4,
 "nbformat_minor": 5
}
