{
 "cells": [
  {
   "cell_type": "markdown",
   "id": "39de52aa",
   "metadata": {},
   "source": [
    "# Dada una lista de numeros, devuelve el segundo nmero mas grande."
   ]
  },
  {
   "cell_type": "markdown",
   "id": "bbd1e4e7",
   "metadata": {},
   "source": []
  },
  {
   "cell_type": "code",
   "execution_count": 5,
   "id": "bbe1bb6c",
   "metadata": {},
   "outputs": [],
   "source": [
    "def segundo(lista):\n",
    "    \n",
    "    lista = list(map(int, lista))\n",
    "    lista.sort(reverse=True)\n",
    "    \n",
    "    segundo_grande = lista[1]\n",
    "    \n",
    "    return print(\"El segundo número más grande es: \", segundo_grande)\n",
    "        "
   ]
  },
  {
   "cell_type": "code",
   "execution_count": 6,
   "id": "b5e152ca",
   "metadata": {},
   "outputs": [
    {
     "name": "stdout",
     "output_type": "stream",
     "text": [
      "El segundo número más grande es:  9\n"
     ]
    }
   ],
   "source": [
    "segundo([5,4,7,9,10])"
   ]
  },
  {
   "cell_type": "code",
   "execution_count": null,
   "id": "d82e5679",
   "metadata": {},
   "outputs": [],
   "source": []
  }
 ],
 "metadata": {
  "kernelspec": {
   "display_name": "Mipentorno",
   "language": "python",
   "name": "python3"
  },
  "language_info": {
   "codemirror_mode": {
    "name": "ipython",
    "version": 3
   },
   "file_extension": ".py",
   "mimetype": "text/x-python",
   "name": "python",
   "nbconvert_exporter": "python",
   "pygments_lexer": "ipython3",
   "version": "3.12.8"
  }
 },
 "nbformat": 4,
 "nbformat_minor": 5
}
