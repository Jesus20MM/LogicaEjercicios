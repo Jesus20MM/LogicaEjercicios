{
 "cells": [
  {
   "cell_type": "code",
   "execution_count": null,
   "metadata": {},
   "outputs": [],
   "source": []
  },
  {
   "cell_type": "markdown",
   "metadata": {},
   "source": [
    "os números felices cumplen que si sumamos los \n",
    "cuadrados de sus dígitos y seguimos el proceso con los \n",
    "resultados obtenidos el resultado converge en 1 \n",
    " \n",
    "203 = 2^2 + 0^2 + 3^2 = 4+0+9=13 \n",
    "13 = 1^2 + 3^2 = 1+9 = 10 \n",
    "10 = 1^2 + 0^2 = 1 "
   ]
  },
  {
   "cell_type": "code",
   "execution_count": 24,
   "metadata": {},
   "outputs": [],
   "source": [
    "def feliz(n):\n",
    "    \n",
    "    x = list(str(n))#lista de los elementos de n en string\n",
    "    x_int = list(map(int, x))#lista de enteros de los elementos de n\n",
    "    x_int_cuadrado = [x**2 for x in x_int]#lista de los cuadrados de los elementos de n\n",
    "    \"\"\"Ese pedazo de código se puede entender como que aplícale x al cuadrado al iterable x_int iterándolo en x  (recorriendo cada elemento)\"\"\"\n",
    "    \n",
    "    suma_cuadrados_elementos_n = sum(x_int_cuadrado)#13\n",
    "    \n",
    "    #iteramos el pñroceso\n",
    "    x2 = list(str(suma_cuadrados_elementos_n))#lista de los elementos de n en string\n",
    "    x_int2 = list(map(int, x2))#lista de enteros de los elementos de n\n",
    "    x_int_cuadrado2 = [x**2 for x in x_int2]#lista de los cuadrados de los elementos de n\n",
    "    \"\"\"Ese pedazo de código se puede entender como que aplícale x al cuadrado al iterable x_int iterándolo en x  (recorriendo cada elemento)\"\"\"\n",
    "    \n",
    "    suma_cuadrados_iterada = sum(x_int_cuadrado2)\n",
    "    \n",
    "    #sumamos los elementos de suma_cuadrados_elementos_n\n",
    "    \n",
    "    elementos = str(suma_cuadrados_iterada)#10 en string\n",
    "    elementos_int = list(map(int, elementos))\n",
    "    es_uno = sum(elementos_int)#comprobar si la suma es 1\n",
    "    \n",
    "    if es_uno == 1:\n",
    "        print(n, \"es un un numero feliz\")\n",
    "    else:\n",
    "        print(n, \"no es un numero feliz\")\n",
    "    \n",
    "    "
   ]
  },
  {
   "cell_type": "code",
   "execution_count": 28,
   "metadata": {},
   "outputs": [
    {
     "name": "stdout",
     "output_type": "stream",
     "text": [
      "2 no es un numero feliz\n"
     ]
    }
   ],
   "source": [
    "feliz(2)"
   ]
  },
  {
   "cell_type": "code",
   "execution_count": null,
   "metadata": {},
   "outputs": [],
   "source": []
  },
  {
   "cell_type": "code",
   "execution_count": null,
   "metadata": {},
   "outputs": [],
   "source": []
  },
  {
   "cell_type": "code",
   "execution_count": null,
   "metadata": {},
   "outputs": [],
   "source": []
  },
  {
   "cell_type": "code",
   "execution_count": null,
   "metadata": {},
   "outputs": [],
   "source": []
  }
 ],
 "metadata": {
  "kernelspec": {
   "display_name": "Mipentorno",
   "language": "python",
   "name": "python3"
  },
  "language_info": {
   "codemirror_mode": {
    "name": "ipython",
    "version": 3
   },
   "file_extension": ".py",
   "mimetype": "text/x-python",
   "name": "python",
   "nbconvert_exporter": "python",
   "pygments_lexer": "ipython3",
   "version": "3.12.8"
  }
 },
 "nbformat": 4,
 "nbformat_minor": 2
}
