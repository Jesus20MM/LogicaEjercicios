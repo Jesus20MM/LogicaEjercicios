{
 "cells": [
  {
   "cell_type": "code",
   "execution_count": null,
   "metadata": {},
   "outputs": [],
   "source": []
  },
  {
   "cell_type": "markdown",
   "metadata": {},
   "source": [
    "Primos de Fermat\n",
    "  \n",
    "Todo numero n natural de la forma 22^n + 1 para \n",
    "algún n. si n resulta ser primo se denomina \n",
    "primo de Fermat. \n",
    "Halla todos los primos de Fermat en un intervalo. "
   ]
  },
  {
   "cell_type": "code",
   "execution_count": 8,
   "metadata": {},
   "outputs": [],
   "source": [
    "from sympy import isprime"
   ]
  },
  {
   "cell_type": "code",
   "execution_count": 17,
   "metadata": {},
   "outputs": [
    {
     "name": "stdout",
     "output_type": "stream",
     "text": [
      "True si 2**(2**n)+1 es primo, Flase si no lo es\n",
      "3 True\n",
      "5 True\n",
      "17 True\n",
      "257 True\n",
      "65537 True\n",
      "4294967297 False\n"
     ]
    }
   ],
   "source": [
    "# intervalo [0,5]\n",
    "\n",
    "n = range(0,6)\n",
    "print(\"True si 2**(2**n)+1 es primo, Flase si no lo es\") \n",
    "for i in n:\n",
    "    x = 2**(2**i) + 1\n",
    "    print(x, isprime(x)) \n",
    "    \n",
    "    \n",
    "    \n",
    "  "
   ]
  },
  {
   "cell_type": "code",
   "execution_count": null,
   "metadata": {},
   "outputs": [],
   "source": [
    "def es_primo(n):#definir la funcion\n",
    "    if n < 2:#si se introduce del uno para abajo, retorna falso\n",
    "        return \"Antes del 2 no hay numeros primos\"\n",
    "    for i in range(2, n):\n",
    "        if n % i == 0:\n",
    "            return False\n",
    "    return True"
   ]
  },
  {
   "cell_type": "markdown",
   "metadata": {},
   "source": [
    "no es necesario verificar explícitamente que 𝑛 es divisible entre 1 y sí mismo, porque esto siempre es cierto para cualquier número entero. Mientras se garantice que no sea divisible por al menos un elemento del rango de 2 hasta n-1 es suficiente"
   ]
  },
  {
   "cell_type": "code",
   "execution_count": 4,
   "metadata": {},
   "outputs": [
    {
     "data": {
      "text/plain": [
       "'Es primo'"
      ]
     },
     "execution_count": 4,
     "metadata": {},
     "output_type": "execute_result"
    }
   ],
   "source": [
    "es_primo(13)"
   ]
  },
  {
   "cell_type": "code",
   "execution_count": null,
   "metadata": {},
   "outputs": [],
   "source": []
  },
  {
   "cell_type": "code",
   "execution_count": null,
   "metadata": {},
   "outputs": [],
   "source": []
  }
 ],
 "metadata": {
  "kernelspec": {
   "display_name": "Mipentorno",
   "language": "python",
   "name": "python3"
  },
  "language_info": {
   "codemirror_mode": {
    "name": "ipython",
    "version": 3
   },
   "file_extension": ".py",
   "mimetype": "text/x-python",
   "name": "python",
   "nbconvert_exporter": "python",
   "pygments_lexer": "ipython3",
   "version": "3.12.8"
  }
 },
 "nbformat": 4,
 "nbformat_minor": 2
}
