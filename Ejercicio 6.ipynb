{
 "cells": [
  {
   "cell_type": "code",
   "execution_count": null,
   "metadata": {},
   "outputs": [],
   "source": []
  },
  {
   "cell_type": "markdown",
   "metadata": {},
   "source": [
    "verrificar que numeros son primos de mersenne en un intervalo"
   ]
  },
  {
   "cell_type": "markdown",
   "metadata": {},
   "source": [
    "Primos de Fermat\n",
    "  \n",
    "Todo numero n natural de la forma 22^n + 1 para \n",
    "algún n. si n resulta ser primo se denomina \n",
    "primo de Fermat. \n",
    "Halla todos los primos de Fermat en un intervalo. "
   ]
  },
  {
   "cell_type": "code",
   "execution_count": null,
   "metadata": {},
   "outputs": [
    {
     "name": "stdout",
     "output_type": "stream",
     "text": [
      "[1, 2, 3, 5, 7, 11, 13, 17, 19, 23, 29]\n"
     ]
    }
   ],
   "source": [
    "nums = range(1,30)\n",
    "\n",
    "def is_prime(num):\n",
    "    \n",
    "    for x in range(2,num):\n",
    "        if (num%x) == 0:\n",
    "            return False\n",
    "    return True\n",
    "\n",
    "primes = list(filter(is_prime, nums))\n",
    "\n",
    "print(primes)"
   ]
  },
  {
   "cell_type": "code",
   "execution_count": 16,
   "metadata": {},
   "outputs": [],
   "source": [
    "def es_primo(n):#definir la funcion\n",
    "    if n < 2:#si se introduce del uno para abajo, retorna falso\n",
    "        return \"Antes del 2 no hay numeros primos\"\n",
    "    for i in range(2, n):\n",
    "        if n % i == 0:\n",
    "            return \"No es primo de Mersanne\"\n",
    "    return \"Es primo de Mersanne\""
   ]
  },
  {
   "cell_type": "code",
   "execution_count": null,
   "metadata": {},
   "outputs": [
    {
     "name": "stdout",
     "output_type": "stream",
     "text": [
      "n=  3 , Es primo de Mersanne\n",
      "n=  5 , Es primo de Mersanne\n",
      "n=  9 , No es primo de Mersanne\n",
      "n=  33 , No es primo de Mersanne\n",
      "n=  129 , No es primo de Mersanne\n",
      "n=  2049 , No es primo de Mersanne\n",
      "n=  8193 , No es primo de Mersanne\n",
      "n=  131073 , No es primo de Mersanne\n",
      "n=  524289 , No es primo de Mersanne\n",
      "n=  8388609 , No es primo de Mersanne\n",
      "n=  536870913 , No es primo de Mersanne\n"
     ]
    }
   ],
   "source": [
    "p = primes#lista de enteros con los numeros primos del 1 al 30\n",
    "for i in primes:\n",
    "    \n",
    "    n= (2**i)+1\n",
    "    x=es_primo(n)\n",
    "    print(\"n= \",n,\",\",x)\n",
    "    "
   ]
  },
  {
   "cell_type": "code",
   "execution_count": null,
   "metadata": {},
   "outputs": [],
   "source": []
  }
 ],
 "metadata": {
  "kernelspec": {
   "display_name": "Mipentorno",
   "language": "python",
   "name": "python3"
  },
  "language_info": {
   "codemirror_mode": {
    "name": "ipython",
    "version": 3
   },
   "file_extension": ".py",
   "mimetype": "text/x-python",
   "name": "python",
   "nbconvert_exporter": "python",
   "pygments_lexer": "ipython3",
   "version": "3.12.8"
  }
 },
 "nbformat": 4,
 "nbformat_minor": 2
}
