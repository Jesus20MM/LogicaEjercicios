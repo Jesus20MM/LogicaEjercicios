{
 "cells": [
  {
   "cell_type": "markdown",
   "metadata": {},
   "source": [
    "un número narcisista es un numero de k dígitos que \n",
    "cumple que es igual a la suma de las potencias k de sus \n",
    "dígitos. \n",
    "153 = 1^3 + 5^3 + 3^3 = 1 + 125 + 27 = 153 \n",
    "Halla todos los números narcisistas en un intervalo. "
   ]
  },
  {
   "cell_type": "code",
   "execution_count": 11,
   "metadata": {},
   "outputs": [],
   "source": [
    "def narcicista(n):\n",
    "    lista = list(str(n))\n",
    "    k = int(len(lista))\n",
    "    lista_enteros  = [int(x) for x in lista]\n",
    "    lista_cuadrados = [x**k for x in lista_enteros]\n",
    "    suma_lista = sum(lista_cuadrados)\n",
    "    \n",
    "    if suma_lista == n:\n",
    "        print(n, \"Es narcicista\")\n",
    "    else:\n",
    "        print(n, \"No es narcicista\")\n",
    "    \n",
    "    \n",
    "   "
   ]
  },
  {
   "cell_type": "code",
   "execution_count": 12,
   "metadata": {},
   "outputs": [
    {
     "name": "stdout",
     "output_type": "stream",
     "text": [
      "153 Es narcicista\n"
     ]
    }
   ],
   "source": [
    "narcicista(153)"
   ]
  },
  {
   "cell_type": "code",
   "execution_count": null,
   "metadata": {},
   "outputs": [],
   "source": []
  }
 ],
 "metadata": {
  "kernelspec": {
   "display_name": "Mipentorno",
   "language": "python",
   "name": "python3"
  },
  "language_info": {
   "codemirror_mode": {
    "name": "ipython",
    "version": 3
   },
   "file_extension": ".py",
   "mimetype": "text/x-python",
   "name": "python",
   "nbconvert_exporter": "python",
   "pygments_lexer": "ipython3",
   "version": "3.12.8"
  }
 },
 "nbformat": 4,
 "nbformat_minor": 2
}
