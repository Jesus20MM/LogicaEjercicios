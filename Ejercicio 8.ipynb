{
 "cells": [
  {
   "cell_type": "code",
   "execution_count": null,
   "metadata": {},
   "outputs": [],
   "source": []
  },
  {
   "cell_type": "markdown",
   "metadata": {},
   "source": [
    "Números poderosos \n",
    "Sea N un numero si existe N%p = 0 para algún p primo \n",
    "divisor entonces p^2 también es divisor de N. \n",
    " \n",
    "36 → 36%2 = 0 → 36%4 = 0 \n",
    "36 → 36%3 = 0 → 36 % 9 = 0 "
   ]
  },
  {
   "cell_type": "code",
   "execution_count": 3,
   "metadata": {},
   "outputs": [
    {
     "name": "stdout",
     "output_type": "stream",
     "text": [
      "[1, 2, 3, 5, 7, 11, 13, 17, 19, 23, 29, 31, 37, 41, 43, 47, 53, 59, 61, 67, 71, 73, 79, 83, 89, 97]\n"
     ]
    }
   ],
   "source": [
    "#programa que general una lista de numeros primos en un cierto rango\n",
    "nums = range(1,100)\n",
    "\n",
    "def is_prime(num):\n",
    "    for x in range(2,num):\n",
    "        if (num%x) == 0:\n",
    "            return False\n",
    "    return True\n",
    "\n",
    "primes = list(filter(is_prime, nums))\n",
    "\n",
    "print(primes)\n"
   ]
  },
  {
   "cell_type": "code",
   "execution_count": 4,
   "metadata": {},
   "outputs": [
    {
     "data": {
      "text/plain": [
       "[1,\n",
       " 4,\n",
       " 9,\n",
       " 25,\n",
       " 49,\n",
       " 121,\n",
       " 169,\n",
       " 289,\n",
       " 361,\n",
       " 529,\n",
       " 841,\n",
       " 961,\n",
       " 1369,\n",
       " 1681,\n",
       " 1849,\n",
       " 2209,\n",
       " 2809,\n",
       " 3481,\n",
       " 3721,\n",
       " 4489,\n",
       " 5041,\n",
       " 5329,\n",
       " 6241,\n",
       " 6889,\n",
       " 7921,\n",
       " 9409]"
      ]
     },
     "execution_count": 4,
     "metadata": {},
     "output_type": "execute_result"
    }
   ],
   "source": [
    "primes_cuadrado = [x**2 for x in primes]\n",
    "primes_cuadrado"
   ]
  },
  {
   "cell_type": "code",
   "execution_count": null,
   "metadata": {},
   "outputs": [
    {
     "name": "stdout",
     "output_type": "stream",
     "text": [
      "lista de primos del 1 al 100;  [1, 2, 3, 5, 7, 11, 13, 17, 19, 23, 29, 31, 37, 41, 43, 47, 53, 59, 61, 67, 71, 73, 79, 83, 89, 97]\n",
      "lista de primos al cuadrado del 1 al 100;  [1, 4, 9, 25, 49, 121, 169, 289, 361, 529, 841, 961, 1369, 1681, 1849, 2209, 2809, 3481, 3721, 4489, 5041, 5329, 6241, 6889, 7921, 9409]\n"
     ]
    }
   ],
   "source": [
    "print(\"lista de primos del 1 al 100; \", primes)\n",
    "\n",
    "print(\"lista de primos al cuadrado del 1 al 100; \", primes_cuadrado)"
   ]
  },
  {
   "cell_type": "code",
   "execution_count": 11,
   "metadata": {},
   "outputs": [],
   "source": [
    "def es_poderoso(n):\n",
    "    for i, j in zip(primes, primes_cuadrado):\n",
    "        if n % i ==0 and n % j == 0:\n",
    "            return \"es poderoso\"\n",
    "       \n"
   ]
  },
  {
   "cell_type": "code",
   "execution_count": 13,
   "metadata": {},
   "outputs": [
    {
     "data": {
      "text/plain": [
       "'es poderoso'"
      ]
     },
     "execution_count": 13,
     "metadata": {},
     "output_type": "execute_result"
    }
   ],
   "source": [
    "es_poderoso(45)"
   ]
  },
  {
   "cell_type": "code",
   "execution_count": null,
   "metadata": {},
   "outputs": [],
   "source": []
  },
  {
   "cell_type": "code",
   "execution_count": null,
   "metadata": {},
   "outputs": [],
   "source": []
  }
 ],
 "metadata": {
  "kernelspec": {
   "display_name": "Mipentorno",
   "language": "python",
   "name": "python3"
  },
  "language_info": {
   "codemirror_mode": {
    "name": "ipython",
    "version": 3
   },
   "file_extension": ".py",
   "mimetype": "text/x-python",
   "name": "python",
   "nbconvert_exporter": "python",
   "pygments_lexer": "ipython3",
   "version": "3.12.8"
  }
 },
 "nbformat": 4,
 "nbformat_minor": 2
}
