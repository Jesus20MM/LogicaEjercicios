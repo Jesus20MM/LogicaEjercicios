{
 "cells": [
  {
   "cell_type": "markdown",
   "id": "8fbbbb96",
   "metadata": {},
   "source": [
    "Prompt:\n",
    "\n",
    "Dame un ejercicio de nivel Y para practicar X. Me debes dar el enunciado de lo que debo lograr sin mencionar que debo usar lo previamente dicho explicitamente. Finalmente también me debes dar la solución en código Python"
   ]
  },
  {
   "cell_type": "markdown",
   "id": "92f597b6",
   "metadata": {},
   "source": [
    "# Elif\n",
    "\n",
    "\n",
    "\n"
   ]
  },
  {
   "attachments": {
    "image.png": {
     "image/png": "[encoded data removed]"
    }
   },
   "cell_type": "markdown",
   "id": "a3581b00",
   "metadata": {},
   "source": [
    "1️⃣ if independiente\n",
    "\n",
    "- Cada if es una condición separada, que se evalúa aunque las anteriores se cumplan.\n",
    "\n",
    "- Pueden ejecutarse varios bloques de código si varias condiciones son verdaderas.\n",
    "\n",
    "![image.png](attachment:image.png)\n",
    "\n",
    "\n",
    "2️⃣ elif (else if)\n",
    "\n",
    "- Se usa después de un if para decir:\n",
    "\"Si el anterior no se cumplió, prueba esta otra condición\".\n",
    "\n",
    "- Solo se ejecuta un bloque de todo el grupo if / elif / else.\n",
    "\n",
    "- En cuanto se cumple una condición, las demás ya no se evalúan."
   ]
  },
  {
   "cell_type": "markdown",
   "id": "6f6f2e8c",
   "metadata": {},
   "source": [
    "### Ejercicio 1\n",
    "\n",
    "Crea un programa que pida al usuario un número entero y muestre un mensaje diferente según el rango en el que se encuentre:\n",
    "\n",
    "Si el número es menor que 0, mostrar: \"Número negativo\".\n",
    "\n",
    "Si el número está entre 0 y 10 (incluyendo 0 y 10), mostrar: \"Número pequeño\".\n",
    "\n",
    "Si el número está entre 11 y 100 (incluyendo 100), mostrar: \"Número mediano\".\n",
    "\n",
    "Si el número es mayor que 100, mostrar: \"Número grande\"."
   ]
  },
  {
   "cell_type": "code",
   "execution_count": null,
   "id": "c6095337",
   "metadata": {
    "vscode": {
     "languageId": "plaintext"
    }
   },
   "outputs": [],
   "source": []
  },
  {
   "cell_type": "markdown",
   "id": "0ea083d8",
   "metadata": {},
   "source": [
    "# While\n",
    "\n",
    "\n",
    "\n"
   ]
  },
  {
   "cell_type": "code",
   "execution_count": null,
   "id": "b7d05563",
   "metadata": {
    "vscode": {
     "languageId": "plaintext"
    }
   },
   "outputs": [],
   "source": []
  },
  {
   "cell_type": "markdown",
   "id": "67269e91",
   "metadata": {},
   "source": [
    "# For\n",
    "\n",
    "\n"
   ]
  },
  {
   "cell_type": "code",
   "execution_count": null,
   "id": "81c6c125",
   "metadata": {
    "vscode": {
     "languageId": "plaintext"
    }
   },
   "outputs": [],
   "source": []
  },
  {
   "cell_type": "markdown",
   "id": "9cf550f0",
   "metadata": {},
   "source": [
    "# Continue\n",
    "\n",
    "\n",
    "\n",
    "\n"
   ]
  },
  {
   "cell_type": "code",
   "execution_count": null,
   "id": "67f50666",
   "metadata": {
    "vscode": {
     "languageId": "plaintext"
    }
   },
   "outputs": [],
   "source": []
  },
  {
   "cell_type": "markdown",
   "id": "68a7c49c",
   "metadata": {},
   "source": [
    "# Break\n",
    "\n",
    "\n",
    "\n",
    "\n"
   ]
  },
  {
   "cell_type": "code",
   "execution_count": null,
   "id": "9b610a7d",
   "metadata": {
    "vscode": {
     "languageId": "plaintext"
    }
   },
   "outputs": [],
   "source": []
  },
  {
   "cell_type": "markdown",
   "id": "f0f67f9e",
   "metadata": {},
   "source": [
    "# Listas \n",
    "\n",
    "\n",
    "\n"
   ]
  },
  {
   "cell_type": "code",
   "execution_count": null,
   "id": "37c297eb",
   "metadata": {
    "vscode": {
     "languageId": "plaintext"
    }
   },
   "outputs": [],
   "source": []
  },
  {
   "cell_type": "markdown",
   "id": "74b2f2c9",
   "metadata": {},
   "source": [
    "# List comphesion\n",
    "\n",
    "\n"
   ]
  },
  {
   "cell_type": "code",
   "execution_count": null,
   "id": "41ff7640",
   "metadata": {
    "vscode": {
     "languageId": "plaintext"
    }
   },
   "outputs": [],
   "source": []
  },
  {
   "cell_type": "markdown",
   "id": "b4d4bccd",
   "metadata": {},
   "source": [
    "# Diccionarios\n",
    "\n",
    "\n",
    "\n",
    "\n"
   ]
  },
  {
   "cell_type": "code",
   "execution_count": null,
   "id": "d8962388",
   "metadata": {
    "vscode": {
     "languageId": "plaintext"
    }
   },
   "outputs": [],
   "source": []
  },
  {
   "cell_type": "markdown",
   "id": "934f119f",
   "metadata": {},
   "source": [
    "# Función\n",
    "\n",
    "\n",
    "\n",
    "\n",
    "\n"
   ]
  },
  {
   "cell_type": "code",
   "execution_count": null,
   "id": "9f3061a9",
   "metadata": {
    "vscode": {
     "languageId": "plaintext"
    }
   },
   "outputs": [],
   "source": []
  },
  {
   "cell_type": "markdown",
   "id": "750ca4f1",
   "metadata": {},
   "source": [
    "\n",
    "# Función lambda\n",
    "\n",
    "\n",
    "\n",
    "\n"
   ]
  },
  {
   "cell_type": "code",
   "execution_count": null,
   "id": "0abd2f7c",
   "metadata": {
    "vscode": {
     "languageId": "plaintext"
    }
   },
   "outputs": [],
   "source": []
  },
  {
   "cell_type": "markdown",
   "id": "da12aada",
   "metadata": {},
   "source": [
    "# In vs Not in\n",
    "\n",
    "\n",
    "\n"
   ]
  },
  {
   "cell_type": "code",
   "execution_count": null,
   "id": "164bf41b",
   "metadata": {
    "vscode": {
     "languageId": "plaintext"
    }
   },
   "outputs": [],
   "source": []
  },
  {
   "cell_type": "markdown",
   "id": "5ded3d84",
   "metadata": {},
   "source": [
    "# Case "
   ]
  },
  {
   "cell_type": "code",
   "execution_count": null,
   "id": "a8d73bcb",
   "metadata": {
    "vscode": {
     "languageId": "plaintext"
    }
   },
   "outputs": [],
   "source": []
  },
  {
   "cell_type": "markdown",
   "id": "71207d53",
   "metadata": {},
   "source": []
  }
 ],
 "metadata": {
  "language_info": {
   "name": "python"
  }
 },
 "nbformat": 4,
 "nbformat_minor": 5
}
